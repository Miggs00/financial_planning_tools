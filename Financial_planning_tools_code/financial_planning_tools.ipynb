{
 "cells": [
  {
   "cell_type": "markdown",
   "metadata": {},
   "source": [
    "# Financial Planning with APIs and Simulations\n",
    "\n",
    "In this Challenge, you’ll create two financial analysis tools by using a single Jupyter notebook:\n",
    "\n",
    "Part 1: A financial planner for emergencies. The members will be able to use this tool to visualize their current savings. The members can then determine if they have enough reserves for an emergency fund.\n",
    "\n",
    "Part 2: A financial planner for retirement. This tool will forecast the performance of their retirement portfolio in 30 years. To do this, the tool will make an Alpaca API call via the Alpaca SDK to get historical price data for use in Monte Carlo simulations.\n",
    "\n",
    "You’ll use the information from the Monte Carlo simulation to answer questions about the portfolio in your Jupyter notebook.\n",
    "\n"
   ]
  },
  {
   "cell_type": "code",
   "execution_count": 1,
   "metadata": {},
   "outputs": [],
   "source": [
    "# Import the required libraries and dependencies\n",
    "import os\n",
    "import requests\n",
    "import json\n",
    "import pandas as pd\n",
    "from dotenv import load_dotenv\n",
    "import alpaca_trade_api as tradeapi\n",
    "from MCForecastTools import MCSimulation\n",
    "\n",
    "%matplotlib inline"
   ]
  },
  {
   "cell_type": "code",
   "execution_count": 2,
   "metadata": {},
   "outputs": [
    {
     "data": {
      "text/plain": [
       "True"
      ]
     },
     "execution_count": 2,
     "metadata": {},
     "output_type": "execute_result"
    }
   ],
   "source": [
    "# Load the environment variables from the .env file\n",
    "# by calling the load_dotenv function\n",
    "load_dotenv()"
   ]
  },
  {
   "cell_type": "markdown",
   "metadata": {},
   "source": [
    "## Part 1: Create a Financial Planner for Emergencies"
   ]
  },
  {
   "cell_type": "markdown",
   "metadata": {},
   "source": [
    "### Evaluate the Cryptocurrency Wallet by Using the Requests Library\n",
    "\n",
    "In this section, you’ll determine the current value of a member’s cryptocurrency wallet. You’ll collect the current prices for the Bitcoin and Ethereum cryptocurrencies by using the Python Requests library. For the prototype, you’ll assume that the member holds the 1.2 Bitcoins (BTC) and 5.3 Ethereum coins (ETH). To do all this, complete the following steps:\n",
    "\n",
    "1. Create a variable named `monthly_income`, and set its value to `12000`.\n",
    "\n",
    "2. Use the Requests library to get the current price (in US dollars) of Bitcoin (BTC) and Ethereum (ETH) by using the API endpoints that the starter code supplies.\n",
    "\n",
    "3. Navigate the JSON response object to access the current price of each coin, and store each in a variable.\n",
    "\n",
    "    > **Hint** Note the specific identifier for each cryptocurrency in the API JSON response. The Bitcoin identifier is `1`, and the Ethereum identifier is `1027`.\n",
    "\n",
    "4. Calculate the value, in US dollars, of the current amount of each cryptocurrency and of the entire cryptocurrency wallet.\n",
    "\n"
   ]
  },
  {
   "cell_type": "code",
   "execution_count": 3,
   "metadata": {},
   "outputs": [],
   "source": [
    "# The current number of coins for each cryptocurrency asset held in the portfolio.\n",
    "btc_coins = 1.2\n",
    "eth_coins = 5.3"
   ]
  },
  {
   "cell_type": "markdown",
   "metadata": {},
   "source": [
    "#### Step 1: Create a variable named `monthly_income`, and set its value to `12000`."
   ]
  },
  {
   "cell_type": "code",
   "execution_count": 4,
   "metadata": {},
   "outputs": [],
   "source": [
    "# The monthly amount for the member's household income\n",
    "monthly_income = 12000\n"
   ]
  },
  {
   "cell_type": "markdown",
   "metadata": {},
   "source": [
    "#### Review the endpoint URLs for the API calls to Free Crypto API in order to get the current pricing information for both BTC and ETH."
   ]
  },
  {
   "cell_type": "code",
   "execution_count": 5,
   "metadata": {},
   "outputs": [],
   "source": [
    "# The Free Crypto API Call endpoint URLs for the held cryptocurrency assets\n",
    "btc_url = \"https://api.alternative.me/v2/ticker/Bitcoin/?convert=USD\"\n",
    "eth_url = \"https://api.alternative.me/v2/ticker/Ethereum/?convert=USD\""
   ]
  },
  {
   "cell_type": "markdown",
   "metadata": {},
   "source": [
    "#### Step 2. Use the Requests library to get the current price (in US dollars) of Bitcoin (BTC) and Ethereum (ETH) by using the API endpoints that the starter code supplied."
   ]
  },
  {
   "cell_type": "code",
   "execution_count": 6,
   "metadata": {},
   "outputs": [
    {
     "name": "stdout",
     "output_type": "stream",
     "text": [
      "{\n",
      "    \"data\": {\n",
      "        \"1\": {\n",
      "            \"circulating_supply\": 18693856,\n",
      "            \"id\": 1,\n",
      "            \"last_updated\": 1619641741,\n",
      "            \"max_supply\": 21000000,\n",
      "            \"name\": \"Bitcoin\",\n",
      "            \"quotes\": {\n",
      "                \"USD\": {\n",
      "                    \"market_cap\": 1020459689572,\n",
      "                    \"percent_change_1h\": -0.685165230098593,\n",
      "                    \"percent_change_24h\": -0.624853890566649,\n",
      "                    \"percent_change_7d\": -3.03182289504222,\n",
      "                    \"percentage_change_1h\": -0.685165230098593,\n",
      "                    \"percentage_change_24h\": -0.624853890566649,\n",
      "                    \"percentage_change_7d\": -3.03182289504222,\n",
      "                    \"price\": 54588.0,\n",
      "                    \"volume_24h\": 48556544631\n",
      "                }\n",
      "            },\n",
      "            \"rank\": 1,\n",
      "            \"symbol\": \"BTC\",\n",
      "            \"total_supply\": 18693856,\n",
      "            \"website_slug\": \"bitcoin\"\n",
      "        }\n",
      "    },\n",
      "    \"metadata\": {\n",
      "        \"error\": null,\n",
      "        \"num_cryptocurrencies\": 1310,\n",
      "        \"timestamp\": 1619641741\n",
      "    }\n",
      "}\n"
     ]
    }
   ],
   "source": [
    "# Using the Python requests library, make an API call to access the current price of BTC\n",
    "btc_response = requests.get(btc_url).json()\n",
    "\n",
    "# Use the json.dumps function to review the response data from the API call\n",
    "# Use the indent and sort_keys parameters to make the response object readable\n",
    "print(json.dumps(btc_response,indent=4, sort_keys=True))"
   ]
  },
  {
   "cell_type": "code",
   "execution_count": 7,
   "metadata": {},
   "outputs": [
    {
     "name": "stdout",
     "output_type": "stream",
     "text": [
      "{\n",
      "    \"data\": {\n",
      "        \"1027\": {\n",
      "            \"circulating_supply\": 115658701,\n",
      "            \"id\": 1027,\n",
      "            \"last_updated\": 1619641768,\n",
      "            \"max_supply\": 0,\n",
      "            \"name\": \"Ethereum\",\n",
      "            \"quotes\": {\n",
      "                \"USD\": {\n",
      "                    \"market_cap\": 314657876221,\n",
      "                    \"percent_change_1h\": -1.78320418811719,\n",
      "                    \"percent_change_24h\": 1.9785539087903,\n",
      "                    \"percent_change_7d\": 15.6221578234749,\n",
      "                    \"percentage_change_1h\": -1.78320418811719,\n",
      "                    \"percentage_change_24h\": 1.9785539087903,\n",
      "                    \"percentage_change_7d\": 15.6221578234749,\n",
      "                    \"price\": 2687.39,\n",
      "                    \"volume_24h\": 40724738950\n",
      "                }\n",
      "            },\n",
      "            \"rank\": 2,\n",
      "            \"symbol\": \"ETH\",\n",
      "            \"total_supply\": 115658701,\n",
      "            \"website_slug\": \"ethereum\"\n",
      "        }\n",
      "    },\n",
      "    \"metadata\": {\n",
      "        \"error\": null,\n",
      "        \"num_cryptocurrencies\": 1310,\n",
      "        \"timestamp\": 1619641768\n",
      "    }\n",
      "}\n"
     ]
    }
   ],
   "source": [
    "# Using the Python requests library, make an API call to access the current price ETH\n",
    "eth_response = requests.get(eth_url).json()\n",
    "\n",
    "# Use the json.dumps function to review the response data from the API call\n",
    "# Use the indent and sort_keys parameters to make the response object readable\n",
    "print(json.dumps(eth_response, indent=4, sort_keys=True))\n"
   ]
  },
  {
   "cell_type": "markdown",
   "metadata": {},
   "source": [
    "#### Step 3: Navigate the JSON response object to access the current price of each coin, and store each in a variable."
   ]
  },
  {
   "cell_type": "code",
   "execution_count": 8,
   "metadata": {},
   "outputs": [
    {
     "name": "stdout",
     "output_type": "stream",
     "text": [
      "54588.0\n"
     ]
    }
   ],
   "source": [
    "# Navigate the BTC response object to access the current price of BTC\n",
    "btc_price = btc_response ['data']['1']['quotes']['USD']['price']\n",
    "\n",
    "# Print the current price of BTC\n",
    "print(btc_price)"
   ]
  },
  {
   "cell_type": "code",
   "execution_count": 9,
   "metadata": {},
   "outputs": [
    {
     "name": "stdout",
     "output_type": "stream",
     "text": [
      "2687.39\n"
     ]
    }
   ],
   "source": [
    "# Navigate the BTC response object to access the current price of ETH\n",
    "eth_price = eth_response ['data']['1027']['quotes']['USD']['price']\n",
    "\n",
    "# Print the current price of ETH\n",
    "print(eth_price)"
   ]
  },
  {
   "cell_type": "markdown",
   "metadata": {},
   "source": [
    "### Step 4: Calculate the value, in US dollars, of the current amount of each cryptocurrency and of the entire cryptocurrency wallet."
   ]
  },
  {
   "cell_type": "code",
   "execution_count": 10,
   "metadata": {},
   "outputs": [
    {
     "name": "stdout",
     "output_type": "stream",
     "text": [
      "The current value of your BTC holding is $ 65505.60\n"
     ]
    }
   ],
   "source": [
    "# Compute the current value of the BTC holding \n",
    "btc_value = btc_price * btc_coins\n",
    "\n",
    "# Print current value of your holding in BTC\n",
    "print(f'The current value of your BTC holding is ${btc_value: .02f}')\n"
   ]
  },
  {
   "cell_type": "code",
   "execution_count": 11,
   "metadata": {},
   "outputs": [
    {
     "name": "stdout",
     "output_type": "stream",
     "text": [
      "The current value of your ETH holding is $ 14243.17\n"
     ]
    }
   ],
   "source": [
    "# Compute the current value of the ETH holding \n",
    "eth_value = eth_price * eth_coins\n",
    "\n",
    "# Print current value of your holding in ETH\n",
    "print(f'The current value of your ETH holding is ${eth_value: .02f}')\n"
   ]
  },
  {
   "cell_type": "code",
   "execution_count": 12,
   "metadata": {},
   "outputs": [
    {
     "name": "stdout",
     "output_type": "stream",
     "text": [
      "The the total value of yout cryptocurrency wallet is $  79748.77\n"
     ]
    }
   ],
   "source": [
    "# Compute the total value of the cryptocurrency wallet\n",
    "# Add the value of the BTC holding to the value of the ETH holding\n",
    "total_crypto_wallet = btc_value + eth_value\n",
    "\n",
    "# Print current cryptocurrency wallet balance\n",
    "print(f'The the total value of yout cryptocurrency wallet is $ {total_crypto_wallet: .02f}')\n"
   ]
  },
  {
   "cell_type": "markdown",
   "metadata": {},
   "source": [
    "### Evaluate the Stock and Bond Holdings by Using the Alpaca SDK\n",
    "\n",
    "In this section, you’ll determine the current value of a member’s stock and bond holdings. You’ll make an API call to Alpaca via the Alpaca SDK to get the current closing prices of the SPDR S&P 500 ETF Trust (ticker: SPY) and of the iShares Core US Aggregate Bond ETF (ticker: AGG). For the prototype, assume that the member holds 110 shares of SPY, which represents the stock portion of their portfolio, and 200 shares of AGG, which represents the bond portion. To do all this, complete the following steps:\n",
    "\n",
    "1. In the `Starter_Code` folder, create an environment file (`.env`) to store the values of your Alpaca API key and Alpaca secret key.\n",
    "\n",
    "2. Set the variables for the Alpaca API and secret keys. Using the Alpaca SDK, create the Alpaca `tradeapi.REST` object. In this object, include the parameters for the Alpaca API key, the secret key, and the version number.\n",
    "\n",
    "3. Set the following parameters for the Alpaca API call:\n",
    "\n",
    "    - `tickers`: Use the tickers for the member’s stock and bond holdings.\n",
    "\n",
    "    - `timeframe`: Use a time frame of one day.\n",
    "\n",
    "    - `start_date` and `end_date`: Use the same date for these parameters, and format them with the date of the previous weekday (or `2020-08-07`). This is because you want the one closing price for the most-recent trading day.\n",
    "\n",
    "4. Get the current closing prices for `SPY` and `AGG` by using the Alpaca `get_barset` function. Format the response as a Pandas DataFrame by including the `df` property at the end of the `get_barset` function.\n",
    "\n",
    "5. Navigating the Alpaca response DataFrame, select the `SPY` and `AGG` closing prices, and store them as variables.\n",
    "\n",
    "6. Calculate the value, in US dollars, of the current amount of shares in each of the stock and bond portions of the portfolio, and print the results.\n"
   ]
  },
  {
   "cell_type": "markdown",
   "metadata": {},
   "source": [
    "#### Review the total number of shares held in both (SPY) and (AGG)."
   ]
  },
  {
   "cell_type": "code",
   "execution_count": 13,
   "metadata": {},
   "outputs": [],
   "source": [
    "# Current amount of shares held in both the stock (SPY) and bond (AGG) portion of the portfolio.\n",
    "spy_shares = 110\n",
    "agg_shares = 200\n"
   ]
  },
  {
   "cell_type": "markdown",
   "metadata": {},
   "source": [
    "#### Step 1: In the `Starter_Code` folder, create an environment file (`.env`) to store the values of your Alpaca API key and Alpaca secret key."
   ]
  },
  {
   "cell_type": "markdown",
   "metadata": {},
   "source": [
    "#### Step 2: Set the variables for the Alpaca API and secret keys. Using the Alpaca SDK, create the Alpaca `tradeapi.REST` object. In this object, include the parameters for the Alpaca API key, the secret key, and the version number."
   ]
  },
  {
   "cell_type": "code",
   "execution_count": 14,
   "metadata": {},
   "outputs": [],
   "source": [
    "# Set the variables for the Alpaca API and secret keys\n",
    "alpaca_api_key = os.getenv('ALPACA_API_KEY')\n",
    "alpaca_secret_key = os.getenv('ALPACA_SECRET_KEY')\n",
    "\n",
    "# Create the Alpaca tradeapi.REST object\n",
    "alpaca = tradeapi.REST(\n",
    "    alpaca_api_key,\n",
    "    alpaca_secret_key,\n",
    "    api_version = 'v2')"
   ]
  },
  {
   "cell_type": "markdown",
   "metadata": {},
   "source": [
    "#### Step 3: Set the following parameters for the Alpaca API call:\n",
    "\n",
    "- `tickers`: Use the tickers for the member’s stock and bond holdings.\n",
    "\n",
    "- `timeframe`: Use a time frame of one day.\n",
    "\n",
    "- `start_date` and `end_date`: Use the same date for these parameters, and format them with the date of the previous weekday (or `2020-08-07`). This is because you want the one closing price for the most-recent trading day.\n"
   ]
  },
  {
   "cell_type": "code",
   "execution_count": 15,
   "metadata": {},
   "outputs": [],
   "source": [
    "# Set the tickers for both the bond and stock portion of the portfolio\n",
    "tickers = ['SPY', 'AGG']\n",
    "\n",
    "# Set timeframe to 1D \n",
    "timeframe = '1D'\n",
    "\n",
    "# Format current date as ISO format\n",
    "# Set both the start and end date at the date of your prior weekday \n",
    "# This will give you the closing price of the previous trading day\n",
    "# Alternatively you can use a start and end date of 2020-08-07\n",
    "start_date = pd.Timestamp('2021-04-26', tz = 'America/New_York').isoformat()\n",
    "end_date = pd.Timestamp('2021-04-26', tz = 'America/New_York').isoformat()"
   ]
  },
  {
   "cell_type": "markdown",
   "metadata": {},
   "source": [
    "#### Step 4: Get the current closing prices for `SPY` and `AGG` by using the Alpaca `get_barset` function. Format the response as a Pandas DataFrame by including the `df` property at the end of the `get_barset` function."
   ]
  },
  {
   "cell_type": "code",
   "execution_count": 16,
   "metadata": {},
   "outputs": [
    {
     "data": {
      "text/html": [
       "<div>\n",
       "<style scoped>\n",
       "    .dataframe tbody tr th:only-of-type {\n",
       "        vertical-align: middle;\n",
       "    }\n",
       "\n",
       "    .dataframe tbody tr th {\n",
       "        vertical-align: top;\n",
       "    }\n",
       "\n",
       "    .dataframe thead tr th {\n",
       "        text-align: left;\n",
       "    }\n",
       "\n",
       "    .dataframe thead tr:last-of-type th {\n",
       "        text-align: right;\n",
       "    }\n",
       "</style>\n",
       "<table border=\"1\" class=\"dataframe\">\n",
       "  <thead>\n",
       "    <tr>\n",
       "      <th></th>\n",
       "      <th colspan=\"5\" halign=\"left\">AGG</th>\n",
       "      <th colspan=\"5\" halign=\"left\">SPY</th>\n",
       "    </tr>\n",
       "    <tr>\n",
       "      <th></th>\n",
       "      <th>open</th>\n",
       "      <th>high</th>\n",
       "      <th>low</th>\n",
       "      <th>close</th>\n",
       "      <th>volume</th>\n",
       "      <th>open</th>\n",
       "      <th>high</th>\n",
       "      <th>low</th>\n",
       "      <th>close</th>\n",
       "      <th>volume</th>\n",
       "    </tr>\n",
       "    <tr>\n",
       "      <th>time</th>\n",
       "      <th></th>\n",
       "      <th></th>\n",
       "      <th></th>\n",
       "      <th></th>\n",
       "      <th></th>\n",
       "      <th></th>\n",
       "      <th></th>\n",
       "      <th></th>\n",
       "      <th></th>\n",
       "      <th></th>\n",
       "    </tr>\n",
       "  </thead>\n",
       "  <tbody>\n",
       "    <tr>\n",
       "      <th>2021-04-26 00:00:00-04:00</th>\n",
       "      <td>114.74</td>\n",
       "      <td>114.8015</td>\n",
       "      <td>114.65</td>\n",
       "      <td>114.65</td>\n",
       "      <td>2867784</td>\n",
       "      <td>417.44</td>\n",
       "      <td>418.22</td>\n",
       "      <td>416.8111</td>\n",
       "      <td>417.64</td>\n",
       "      <td>44689009</td>\n",
       "    </tr>\n",
       "  </tbody>\n",
       "</table>\n",
       "</div>"
      ],
      "text/plain": [
       "                              AGG                                        SPY  \\\n",
       "                             open      high     low   close   volume    open   \n",
       "time                                                                           \n",
       "2021-04-26 00:00:00-04:00  114.74  114.8015  114.65  114.65  2867784  417.44   \n",
       "\n",
       "                                                               \n",
       "                             high       low   close    volume  \n",
       "time                                                           \n",
       "2021-04-26 00:00:00-04:00  418.22  416.8111  417.64  44689009  "
      ]
     },
     "execution_count": 16,
     "metadata": {},
     "output_type": "execute_result"
    }
   ],
   "source": [
    "# Use the Alpaca get_barset function to get current closing prices the portfolio\n",
    "# Be sure to set the `df` property after the function to format the response object as a DataFrame\n",
    "portfolio_df = alpaca.get_barset(\n",
    "    tickers,\n",
    "    timeframe,\n",
    "    start = start_date,\n",
    "    end = end_date\n",
    ").df\n",
    "\n",
    "# Review the first 5 rows of the Alpaca DataFrame\n",
    "portfolio_df\n"
   ]
  },
  {
   "cell_type": "markdown",
   "metadata": {},
   "source": [
    "#### Step 5: Navigating the Alpaca response DataFrame, select the `SPY` and `AGG` closing prices, and store them as variables."
   ]
  },
  {
   "cell_type": "code",
   "execution_count": 17,
   "metadata": {},
   "outputs": [
    {
     "name": "stdout",
     "output_type": "stream",
     "text": [
      "time\n",
      "2021-04-26 00:00:00-04:00    114.65\n",
      "Name: close, dtype: float64\n"
     ]
    }
   ],
   "source": [
    "# Access the closing price for AGG from the Alpaca DataFrame\n",
    "# Converting the value to a floating point number\n",
    "agg_close_price = portfolio_df['AGG']['close']\n",
    "\n",
    "# Print the AGG closing price\n",
    "print(agg_close_price)"
   ]
  },
  {
   "cell_type": "code",
   "execution_count": 18,
   "metadata": {},
   "outputs": [
    {
     "name": "stdout",
     "output_type": "stream",
     "text": [
      "time\n",
      "2021-04-26 00:00:00-04:00    417.64\n",
      "Name: close, dtype: float64\n"
     ]
    }
   ],
   "source": [
    "# Access the closing price for SPY from the Alpaca DataFrame\n",
    "# Converting the value to a floating point number\n",
    "spy_close_price = portfolio_df['SPY']['close']\n",
    "\n",
    "# Print the SPY closing price\n",
    "print(spy_close_price)\n"
   ]
  },
  {
   "cell_type": "markdown",
   "metadata": {},
   "source": [
    "#### Step 6: Calculate the value, in US dollars, of the current amount of shares in each of the stock and bond portions of the portfolio, and print the results."
   ]
  },
  {
   "cell_type": "code",
   "execution_count": 19,
   "metadata": {},
   "outputs": [
    {
     "name": "stdout",
     "output_type": "stream",
     "text": [
      "The current value of the AGG shares is $22930.0\n"
     ]
    }
   ],
   "source": [
    "# Calculate the current value of the bond portion of the portfolio\n",
    "agg_value = float(agg_close_price * agg_shares)\n",
    "\n",
    "# Print the current value of the bond portfolio\n",
    "print(f'The current value of the AGG shares is ${agg_value}')\n"
   ]
  },
  {
   "cell_type": "code",
   "execution_count": 20,
   "metadata": {},
   "outputs": [
    {
     "name": "stdout",
     "output_type": "stream",
     "text": [
      "The current value of the SPY shares is $83528.0\n"
     ]
    }
   ],
   "source": [
    "# Calculate the current value of the stock portion of the portfolio\n",
    "spy_value = float(spy_close_price * agg_shares)\n",
    "\n",
    "# Print the current value of the stock portfolio\n",
    "print(f'The current value of the SPY shares is ${spy_value}')"
   ]
  },
  {
   "cell_type": "code",
   "execution_count": 21,
   "metadata": {},
   "outputs": [
    {
     "name": "stdout",
     "output_type": "stream",
     "text": [
      "The current balance of the stock and bonds portions is $106458.0\n"
     ]
    }
   ],
   "source": [
    "# Calculate the total value of the stock and bond portion of the portfolio\n",
    "total_stocks_bonds = float(agg_value + spy_value)\n",
    "\n",
    "# Print the current balance of the stock and bond portion of the portfolio\n",
    "print(f'The current balance of the stock and bonds portions is ${total_stocks_bonds}')\n"
   ]
  },
  {
   "cell_type": "code",
   "execution_count": 22,
   "metadata": {},
   "outputs": [
    {
     "name": "stdout",
     "output_type": "stream",
     "text": [
      "The current value of the total portfolio is $186206.767\n"
     ]
    }
   ],
   "source": [
    "# Calculate the total value of the member's entire savings portfolio\n",
    "# Add the value of the cryptocurrency walled to the value of the total stocks and bonds\n",
    "total_portfolio = float(total_crypto_wallet + total_stocks_bonds)\n",
    "\n",
    "# Print current cryptocurrency wallet balance\n",
    "print(f'The current value of the total portfolio is ${total_portfolio}')\n"
   ]
  },
  {
   "cell_type": "markdown",
   "metadata": {},
   "source": [
    "### Evaluate the Emergency Fund\n",
    "\n",
    "In this section, you’ll use the valuations for the cryptocurrency wallet and for the stock and bond portions of the portfolio to determine if the credit union member has enough savings to build an emergency fund into their financial plan. To do this, complete the following steps:\n",
    "\n",
    "1. Create a Python list named `savings_data` that has two elements. The first element contains the total value of the cryptocurrency wallet. The second element contains the total value of the stock and bond portions of the portfolio.\n",
    "\n",
    "2. Use the `savings_data` list to create a Pandas DataFrame named `savings_df`, and then display this DataFrame. The function to create the DataFrame should take the following three parameters:\n",
    "\n",
    "    - `savings_data`: Use the list that you just created.\n",
    "\n",
    "    - `columns`: Set this parameter equal to a Python list with a single value called `amount`.\n",
    "\n",
    "    - `index`: Set this parameter equal to a Python list with the values of `crypto` and `stock/bond`.\n",
    "\n",
    "3. Use the `savings_df` DataFrame to plot a pie chart that visualizes the composition of the member’s portfolio. The y-axis of the pie chart uses `amount`. Be sure to add a title.\n",
    "\n",
    "4. Using Python, determine if the current portfolio has enough to create an emergency fund as part of the member’s financial plan. Ideally, an emergency fund should equal to three times the member’s monthly income. To do this, implement the following steps:\n",
    "\n",
    "    1. Create a variable named `emergency_fund_value`, and set it equal to three times the value of the member’s `monthly_income` of $12000. (You set this earlier in Part 1).\n",
    "\n",
    "    2. Create a series of three if statements to determine if the member’s total portfolio is large enough to fund the emergency portfolio:\n",
    "\n",
    "        1. If the total portfolio value is greater than the emergency fund value, display a message congratulating the member for having enough money in this fund.\n",
    "\n",
    "        2. Else if the total portfolio value is equal to the emergency fund value, display a message congratulating the member on reaching this important financial goal.\n",
    "\n",
    "        3. Else the total portfolio is less than the emergency fund value, so display a message showing how many dollars away the member is from reaching the goal. (Subtract the total portfolio value from the emergency fund value.)\n"
   ]
  },
  {
   "cell_type": "markdown",
   "metadata": {},
   "source": [
    "#### Step 1: Create a Python list named `savings_data` that has two elements. The first element contains the total value of the cryptocurrency wallet. The second element contains the total value of the stock and bond portions of the portfolio."
   ]
  },
  {
   "cell_type": "code",
   "execution_count": 23,
   "metadata": {},
   "outputs": [
    {
     "data": {
      "text/plain": [
       "[79748.76699999999, 106458.0]"
      ]
     },
     "execution_count": 23,
     "metadata": {},
     "output_type": "execute_result"
    }
   ],
   "source": [
    "# Consolidate financial assets data into a Python list\n",
    "savings_data = [total_crypto_wallet, total_stocks_bonds]\n",
    "\n",
    "# Review the Python list savings_data\n",
    "savings_data\n",
    "    "
   ]
  },
  {
   "cell_type": "markdown",
   "metadata": {},
   "source": [
    "#### Step 2: Use the `savings_data` list to create a Pandas DataFrame named `savings_df`, and then display this DataFrame. The function to create the DataFrame should take the following three parameters:\n",
    "\n",
    "- `savings_data`: Use the list that you just created.\n",
    "\n",
    "- `columns`: Set this parameter equal to a Python list with a single value called `amount`.\n",
    "\n",
    "- `index`: Set this parameter equal to a Python list with the values of `crypto` and `stock/bond`.\n"
   ]
  },
  {
   "cell_type": "code",
   "execution_count": 24,
   "metadata": {},
   "outputs": [
    {
     "data": {
      "text/html": [
       "<div>\n",
       "<style scoped>\n",
       "    .dataframe tbody tr th:only-of-type {\n",
       "        vertical-align: middle;\n",
       "    }\n",
       "\n",
       "    .dataframe tbody tr th {\n",
       "        vertical-align: top;\n",
       "    }\n",
       "\n",
       "    .dataframe thead th {\n",
       "        text-align: right;\n",
       "    }\n",
       "</style>\n",
       "<table border=\"1\" class=\"dataframe\">\n",
       "  <thead>\n",
       "    <tr style=\"text-align: right;\">\n",
       "      <th></th>\n",
       "      <th>amount</th>\n",
       "    </tr>\n",
       "  </thead>\n",
       "  <tbody>\n",
       "    <tr>\n",
       "      <th>crypto</th>\n",
       "      <td>79748.767</td>\n",
       "    </tr>\n",
       "    <tr>\n",
       "      <th>stock/bond</th>\n",
       "      <td>106458.000</td>\n",
       "    </tr>\n",
       "  </tbody>\n",
       "</table>\n",
       "</div>"
      ],
      "text/plain": [
       "                amount\n",
       "crypto       79748.767\n",
       "stock/bond  106458.000"
      ]
     },
     "execution_count": 24,
     "metadata": {},
     "output_type": "execute_result"
    }
   ],
   "source": [
    "# Create a Pandas DataFrame called savings_df \n",
    "savings_df = pd.DataFrame(\n",
    "    savings_data,\n",
    "    columns=['amount'],\n",
    "    index= ['crypto', 'stock/bond'])\n",
    "\n",
    "# Display the savings_df DataFrame\n",
    "savings_df\n"
   ]
  },
  {
   "cell_type": "markdown",
   "metadata": {},
   "source": [
    "#### Step 3: Use the `savings_df` DataFrame to plot a pie chart that visualizes the composition of the member’s portfolio. The y-axis of the pie chart uses `amount`. Be sure to add a title."
   ]
  },
  {
   "cell_type": "code",
   "execution_count": 25,
   "metadata": {},
   "outputs": [
    {
     "data": {
      "text/plain": [
       "<AxesSubplot:title={'center':'Total value of portfolio'}, ylabel='amount'>"
      ]
     },
     "execution_count": 25,
     "metadata": {},
     "output_type": "execute_result"
    },
    {
     "data": {
      "image/png": "[encoded data removed]",
      "text/plain": [
       "<Figure size 432x288 with 1 Axes>"
      ]
     },
     "metadata": {},
     "output_type": "display_data"
    }
   ],
   "source": [
    "# Plot the total value of the member's portfolio (crypto and stock/bond) in a pie chart\n",
    "\n",
    "savings_df.plot(kind='pie', y='amount', title='Total value of portfolio')"
   ]
  },
  {
   "cell_type": "markdown",
   "metadata": {},
   "source": [
    "#### Step 4: Using Python, determine if the current portfolio has enough to create an emergency fund as part of the member’s financial plan. Ideally, an emergency fund should equal to three times the member’s monthly income. To do this, implement the following steps:\n",
    "\n",
    "Step 1. Create a variable named `emergency_fund_value`, and set it equal to three times the value of the member’s `monthly_income` of 12000. (You set this earlier in Part 1).\n",
    "\n",
    "Step 2. Create a series of three if statements to determine if the member’s total portfolio is large enough to fund the emergency portfolio:\n",
    "\n",
    "* If the total portfolio value is greater than the emergency fund value, display a message congratulating the member for having enough money in this fund.\n",
    "\n",
    "* Else if the total portfolio value is equal to the emergency fund value, display a message congratulating the member on reaching this important financial goal.\n",
    "\n",
    "* Else the total portfolio is less than the emergency fund value, so display a message showing how many dollars away the member is from reaching the goal. (Subtract the total portfolio value from the emergency fund value.)\n"
   ]
  },
  {
   "cell_type": "markdown",
   "metadata": {},
   "source": [
    "##### Step 4-1: Create a variable named `emergency_fund_value`, and set it equal to three times the value of the member’s `monthly_income` of 12000. (You set this earlier in Part 1)."
   ]
  },
  {
   "cell_type": "code",
   "execution_count": 26,
   "metadata": {},
   "outputs": [],
   "source": [
    "# Create a variable named emergency_fund_value\n",
    "emergency_fund_value = monthly_income * 3\n"
   ]
  },
  {
   "cell_type": "markdown",
   "metadata": {},
   "source": [
    "##### Step 4-2: Create a series of three if statements to determine if the member’s total portfolio is large enough to fund the emergency portfolio:\n",
    "\n",
    "* If the total portfolio value is greater than the emergency fund value, display a message congratulating the member for having enough money in this fund.\n",
    "\n",
    "* Else if the total portfolio value is equal to the emergency fund value, display a message congratulating the member on reaching this important financial goal.\n",
    "\n",
    "* Else the total portfolio is less than the emergency fund value, so display a message showing how many dollars away the member is from reaching the goal. (Subtract the total portfolio value from the emergency fund value.)"
   ]
  },
  {
   "cell_type": "code",
   "execution_count": 27,
   "metadata": {},
   "outputs": [
    {
     "name": "stdout",
     "output_type": "stream",
     "text": [
      "Congratulations you have enough money in the fund\n"
     ]
    }
   ],
   "source": [
    "# Evaluate the possibility of creating an emergency fund with 3 conditions:\n",
    "if total_portfolio > emergency_fund_value:\n",
    "    print('Congratulations you have enough money in the fund')\n",
    "elif total_portfolio == emergency_fund_value:\n",
    "    print('Congratulations on reaching this important financial goal')\n",
    "else:\n",
    "    print(f'Your are ${emergency_fund_value - total_portfolio} from reaching your goal')\n"
   ]
  },
  {
   "cell_type": "markdown",
   "metadata": {},
   "source": [
    "## Part 2: Create a Financial Planner for Retirement"
   ]
  },
  {
   "cell_type": "markdown",
   "metadata": {},
   "source": [
    "### Create the Monte Carlo Simulation\n",
    "\n",
    "In this section, you’ll use the MCForecastTools library to create a Monte Carlo simulation for the member’s savings portfolio. To do this, complete the following steps:\n",
    "\n",
    "1. Make an API call via the Alpaca SDK to get 10 years of historical closing prices for a traditional 60/40 portfolio split: 60% stocks (SPY) and 40% bonds (AGG).\n",
    "\n",
    "2. Run a Monte Carlo simulation of 500 samples and 30 years for the 60/40 portfolio, and then plot the results.The following image shows the overlay line plot resulting from a simulation with these characteristics. However, because a random number generator is used to run each live Monte Carlo simulation, your image will differ slightly from this exact image:\n",
    "\n",
    "![A screenshot depicts the resulting plot.](Images/5-4-monte-carlo-line-plot.png)\n",
    "\n",
    "3. Plot the probability distribution of the Monte Carlo simulation. Plot the probability distribution of the Monte Carlo simulation. The following image shows the histogram plot resulting from a simulation with these characteristics. However, because a random number generator is used to run each live Monte Carlo simulation, your image will differ slightly from this exact image:\n",
    "\n",
    "![A screenshot depicts the histogram plot.](Images/5-4-monte-carlo-histogram.png)\n",
    "\n",
    "4. Generate the summary statistics for the Monte Carlo simulation.\n",
    "\n"
   ]
  },
  {
   "cell_type": "markdown",
   "metadata": {},
   "source": [
    "#### Step 1: Make an API call via the Alpaca SDK to get 10 years of historical closing prices for a traditional 60/40 portfolio split: 60% stocks (SPY) and 40% bonds (AGG)."
   ]
  },
  {
   "cell_type": "code",
   "execution_count": 57,
   "metadata": {},
   "outputs": [],
   "source": [
    "# Set start and end dates of 10 years back from your current date\n",
    "# Alternatively, you can use an end date of 2020-08-07 and work 10 years back from that date \n",
    "start_date = pd.Timestamp('2011-04-28', tz='America/New_York').isoformat()\n",
    "\n",
    "end_date = pd.Timestamp('2021-04-28', tz='America/New_York').isoformat()\n"
   ]
  },
  {
   "cell_type": "code",
   "execution_count": 58,
   "metadata": {},
   "outputs": [
    {
     "data": {
      "text/html": [
       "<div>\n",
       "<style scoped>\n",
       "    .dataframe tbody tr th:only-of-type {\n",
       "        vertical-align: middle;\n",
       "    }\n",
       "\n",
       "    .dataframe tbody tr th {\n",
       "        vertical-align: top;\n",
       "    }\n",
       "\n",
       "    .dataframe thead tr th {\n",
       "        text-align: left;\n",
       "    }\n",
       "\n",
       "    .dataframe thead tr:last-of-type th {\n",
       "        text-align: right;\n",
       "    }\n",
       "</style>\n",
       "<table border=\"1\" class=\"dataframe\">\n",
       "  <thead>\n",
       "    <tr>\n",
       "      <th></th>\n",
       "      <th colspan=\"5\" halign=\"left\">AGG</th>\n",
       "      <th colspan=\"5\" halign=\"left\">SPY</th>\n",
       "    </tr>\n",
       "    <tr>\n",
       "      <th></th>\n",
       "      <th>open</th>\n",
       "      <th>high</th>\n",
       "      <th>low</th>\n",
       "      <th>close</th>\n",
       "      <th>volume</th>\n",
       "      <th>open</th>\n",
       "      <th>high</th>\n",
       "      <th>low</th>\n",
       "      <th>close</th>\n",
       "      <th>volume</th>\n",
       "    </tr>\n",
       "    <tr>\n",
       "      <th>time</th>\n",
       "      <th></th>\n",
       "      <th></th>\n",
       "      <th></th>\n",
       "      <th></th>\n",
       "      <th></th>\n",
       "      <th></th>\n",
       "      <th></th>\n",
       "      <th></th>\n",
       "      <th></th>\n",
       "      <th></th>\n",
       "    </tr>\n",
       "  </thead>\n",
       "  <tbody>\n",
       "    <tr>\n",
       "      <th>2020-12-03 00:00:00-05:00</th>\n",
       "      <td>117.92</td>\n",
       "      <td>117.9800</td>\n",
       "      <td>117.7650</td>\n",
       "      <td>117.91</td>\n",
       "      <td>5210910</td>\n",
       "      <td>366.68</td>\n",
       "      <td>368.19</td>\n",
       "      <td>365.50</td>\n",
       "      <td>366.6698</td>\n",
       "      <td>52905586</td>\n",
       "    </tr>\n",
       "    <tr>\n",
       "      <th>2020-12-04 00:00:00-05:00</th>\n",
       "      <td>117.90</td>\n",
       "      <td>117.9000</td>\n",
       "      <td>117.5133</td>\n",
       "      <td>117.58</td>\n",
       "      <td>4821820</td>\n",
       "      <td>367.32</td>\n",
       "      <td>369.85</td>\n",
       "      <td>367.22</td>\n",
       "      <td>369.8300</td>\n",
       "      <td>40264568</td>\n",
       "    </tr>\n",
       "    <tr>\n",
       "      <th>2020-12-07 00:00:00-05:00</th>\n",
       "      <td>117.76</td>\n",
       "      <td>117.8262</td>\n",
       "      <td>117.6900</td>\n",
       "      <td>117.75</td>\n",
       "      <td>4689469</td>\n",
       "      <td>369.02</td>\n",
       "      <td>369.62</td>\n",
       "      <td>367.72</td>\n",
       "      <td>369.1200</td>\n",
       "      <td>40456544</td>\n",
       "    </tr>\n",
       "    <tr>\n",
       "      <th>2020-12-08 00:00:00-05:00</th>\n",
       "      <td>117.88</td>\n",
       "      <td>117.9597</td>\n",
       "      <td>117.7500</td>\n",
       "      <td>117.77</td>\n",
       "      <td>3587353</td>\n",
       "      <td>367.72</td>\n",
       "      <td>370.78</td>\n",
       "      <td>367.67</td>\n",
       "      <td>370.1599</td>\n",
       "      <td>32702217</td>\n",
       "    </tr>\n",
       "    <tr>\n",
       "      <th>2020-12-09 00:00:00-05:00</th>\n",
       "      <td>117.73</td>\n",
       "      <td>117.7800</td>\n",
       "      <td>117.5172</td>\n",
       "      <td>117.62</td>\n",
       "      <td>4720359</td>\n",
       "      <td>370.88</td>\n",
       "      <td>371.05</td>\n",
       "      <td>365.95</td>\n",
       "      <td>366.8900</td>\n",
       "      <td>60700254</td>\n",
       "    </tr>\n",
       "  </tbody>\n",
       "</table>\n",
       "</div>"
      ],
      "text/plain": [
       "                              AGG                                       \\\n",
       "                             open      high       low   close   volume   \n",
       "time                                                                     \n",
       "2020-12-03 00:00:00-05:00  117.92  117.9800  117.7650  117.91  5210910   \n",
       "2020-12-04 00:00:00-05:00  117.90  117.9000  117.5133  117.58  4821820   \n",
       "2020-12-07 00:00:00-05:00  117.76  117.8262  117.6900  117.75  4689469   \n",
       "2020-12-08 00:00:00-05:00  117.88  117.9597  117.7500  117.77  3587353   \n",
       "2020-12-09 00:00:00-05:00  117.73  117.7800  117.5172  117.62  4720359   \n",
       "\n",
       "                              SPY                                      \n",
       "                             open    high     low     close    volume  \n",
       "time                                                                   \n",
       "2020-12-03 00:00:00-05:00  366.68  368.19  365.50  366.6698  52905586  \n",
       "2020-12-04 00:00:00-05:00  367.32  369.85  367.22  369.8300  40264568  \n",
       "2020-12-07 00:00:00-05:00  369.02  369.62  367.72  369.1200  40456544  \n",
       "2020-12-08 00:00:00-05:00  367.72  370.78  367.67  370.1599  32702217  \n",
       "2020-12-09 00:00:00-05:00  370.88  371.05  365.95  366.8900  60700254  "
      ]
     },
     "execution_count": 58,
     "metadata": {},
     "output_type": "execute_result"
    }
   ],
   "source": [
    "# Use the Alpaca get_barset function to make the API call to get the 10 years worth of pricing data\n",
    "# The tickers and timeframe parameters should have been set in Part 1 of this activity \n",
    "# The start and end dates should be updated with the information set above\n",
    "# Remember to add the df property to the end of the call so the response is returned as a DataFrame\n",
    "\n",
    "stocks_bonds_df = alpaca.get_barset(\n",
    "    tickers,\n",
    "    timeframe,\n",
    "    start = start_date,\n",
    "    end = end_date\n",
    ").df\n",
    "\n",
    "stocks_bonds_df.head()\n"
   ]
  },
  {
   "cell_type": "code",
   "execution_count": 61,
   "metadata": {},
   "outputs": [
    {
     "data": {
      "text/html": [
       "<div>\n",
       "<style scoped>\n",
       "    .dataframe tbody tr th:only-of-type {\n",
       "        vertical-align: middle;\n",
       "    }\n",
       "\n",
       "    .dataframe tbody tr th {\n",
       "        vertical-align: top;\n",
       "    }\n",
       "\n",
       "    .dataframe thead tr th {\n",
       "        text-align: left;\n",
       "    }\n",
       "\n",
       "    .dataframe thead tr:last-of-type th {\n",
       "        text-align: right;\n",
       "    }\n",
       "</style>\n",
       "<table border=\"1\" class=\"dataframe\">\n",
       "  <thead>\n",
       "    <tr>\n",
       "      <th></th>\n",
       "      <th colspan=\"5\" halign=\"left\">AGG</th>\n",
       "      <th colspan=\"5\" halign=\"left\">SPY</th>\n",
       "    </tr>\n",
       "    <tr>\n",
       "      <th></th>\n",
       "      <th>open</th>\n",
       "      <th>high</th>\n",
       "      <th>low</th>\n",
       "      <th>close</th>\n",
       "      <th>volume</th>\n",
       "      <th>open</th>\n",
       "      <th>high</th>\n",
       "      <th>low</th>\n",
       "      <th>close</th>\n",
       "      <th>volume</th>\n",
       "    </tr>\n",
       "    <tr>\n",
       "      <th>time</th>\n",
       "      <th></th>\n",
       "      <th></th>\n",
       "      <th></th>\n",
       "      <th></th>\n",
       "      <th></th>\n",
       "      <th></th>\n",
       "      <th></th>\n",
       "      <th></th>\n",
       "      <th></th>\n",
       "      <th></th>\n",
       "    </tr>\n",
       "  </thead>\n",
       "  <tbody>\n",
       "    <tr>\n",
       "      <th>2021-04-22 00:00:00-04:00</th>\n",
       "      <td>114.74</td>\n",
       "      <td>114.8000</td>\n",
       "      <td>114.5900</td>\n",
       "      <td>114.77</td>\n",
       "      <td>3518947</td>\n",
       "      <td>415.88</td>\n",
       "      <td>416.78</td>\n",
       "      <td>411.1300</td>\n",
       "      <td>412.30</td>\n",
       "      <td>90086341</td>\n",
       "    </tr>\n",
       "    <tr>\n",
       "      <th>2021-04-23 00:00:00-04:00</th>\n",
       "      <td>114.81</td>\n",
       "      <td>115.0860</td>\n",
       "      <td>114.6415</td>\n",
       "      <td>114.75</td>\n",
       "      <td>3506457</td>\n",
       "      <td>412.87</td>\n",
       "      <td>418.25</td>\n",
       "      <td>412.7900</td>\n",
       "      <td>416.72</td>\n",
       "      <td>62184753</td>\n",
       "    </tr>\n",
       "    <tr>\n",
       "      <th>2021-04-26 00:00:00-04:00</th>\n",
       "      <td>114.74</td>\n",
       "      <td>114.8015</td>\n",
       "      <td>114.6500</td>\n",
       "      <td>114.65</td>\n",
       "      <td>2867784</td>\n",
       "      <td>417.44</td>\n",
       "      <td>418.22</td>\n",
       "      <td>416.8111</td>\n",
       "      <td>417.64</td>\n",
       "      <td>44689009</td>\n",
       "    </tr>\n",
       "    <tr>\n",
       "      <th>2021-04-27 00:00:00-04:00</th>\n",
       "      <td>115.13</td>\n",
       "      <td>115.1300</td>\n",
       "      <td>114.3700</td>\n",
       "      <td>114.37</td>\n",
       "      <td>3421667</td>\n",
       "      <td>417.91</td>\n",
       "      <td>418.14</td>\n",
       "      <td>416.3000</td>\n",
       "      <td>417.48</td>\n",
       "      <td>45962264</td>\n",
       "    </tr>\n",
       "    <tr>\n",
       "      <th>2021-04-28 00:00:00-04:00</th>\n",
       "      <td>114.45</td>\n",
       "      <td>114.4685</td>\n",
       "      <td>114.2000</td>\n",
       "      <td>114.44</td>\n",
       "      <td>6185936</td>\n",
       "      <td>417.81</td>\n",
       "      <td>419.01</td>\n",
       "      <td>416.9000</td>\n",
       "      <td>417.35</td>\n",
       "      <td>45533863</td>\n",
       "    </tr>\n",
       "  </tbody>\n",
       "</table>\n",
       "</div>"
      ],
      "text/plain": [
       "                              AGG                                       \\\n",
       "                             open      high       low   close   volume   \n",
       "time                                                                     \n",
       "2021-04-22 00:00:00-04:00  114.74  114.8000  114.5900  114.77  3518947   \n",
       "2021-04-23 00:00:00-04:00  114.81  115.0860  114.6415  114.75  3506457   \n",
       "2021-04-26 00:00:00-04:00  114.74  114.8015  114.6500  114.65  2867784   \n",
       "2021-04-27 00:00:00-04:00  115.13  115.1300  114.3700  114.37  3421667   \n",
       "2021-04-28 00:00:00-04:00  114.45  114.4685  114.2000  114.44  6185936   \n",
       "\n",
       "                              SPY                                      \n",
       "                             open    high       low   close    volume  \n",
       "time                                                                   \n",
       "2021-04-22 00:00:00-04:00  415.88  416.78  411.1300  412.30  90086341  \n",
       "2021-04-23 00:00:00-04:00  412.87  418.25  412.7900  416.72  62184753  \n",
       "2021-04-26 00:00:00-04:00  417.44  418.22  416.8111  417.64  44689009  \n",
       "2021-04-27 00:00:00-04:00  417.91  418.14  416.3000  417.48  45962264  \n",
       "2021-04-28 00:00:00-04:00  417.81  419.01  416.9000  417.35  45533863  "
      ]
     },
     "execution_count": 61,
     "metadata": {},
     "output_type": "execute_result"
    }
   ],
   "source": [
    "stocks_bonds_df.tail()\n"
   ]
  },
  {
   "cell_type": "markdown",
   "metadata": {},
   "source": [
    "#### Step 2: Run a Monte Carlo simulation of 500 samples and 30 years for the 60/40 portfolio, and then plot the results."
   ]
  },
  {
   "cell_type": "code",
   "execution_count": 65,
   "metadata": {},
   "outputs": [
    {
     "data": {
      "text/html": [
       "<div>\n",
       "<style scoped>\n",
       "    .dataframe tbody tr th:only-of-type {\n",
       "        vertical-align: middle;\n",
       "    }\n",
       "\n",
       "    .dataframe tbody tr th {\n",
       "        vertical-align: top;\n",
       "    }\n",
       "\n",
       "    .dataframe thead tr th {\n",
       "        text-align: left;\n",
       "    }\n",
       "\n",
       "    .dataframe thead tr:last-of-type th {\n",
       "        text-align: right;\n",
       "    }\n",
       "</style>\n",
       "<table border=\"1\" class=\"dataframe\">\n",
       "  <thead>\n",
       "    <tr>\n",
       "      <th></th>\n",
       "      <th colspan=\"6\" halign=\"left\">AGG</th>\n",
       "      <th colspan=\"6\" halign=\"left\">SPY</th>\n",
       "    </tr>\n",
       "    <tr>\n",
       "      <th></th>\n",
       "      <th>open</th>\n",
       "      <th>high</th>\n",
       "      <th>low</th>\n",
       "      <th>close</th>\n",
       "      <th>volume</th>\n",
       "      <th>daily_return</th>\n",
       "      <th>open</th>\n",
       "      <th>high</th>\n",
       "      <th>low</th>\n",
       "      <th>close</th>\n",
       "      <th>volume</th>\n",
       "      <th>daily_return</th>\n",
       "    </tr>\n",
       "    <tr>\n",
       "      <th>time</th>\n",
       "      <th></th>\n",
       "      <th></th>\n",
       "      <th></th>\n",
       "      <th></th>\n",
       "      <th></th>\n",
       "      <th></th>\n",
       "      <th></th>\n",
       "      <th></th>\n",
       "      <th></th>\n",
       "      <th></th>\n",
       "      <th></th>\n",
       "      <th></th>\n",
       "    </tr>\n",
       "  </thead>\n",
       "  <tbody>\n",
       "    <tr>\n",
       "      <th>2020-12-03 00:00:00-05:00</th>\n",
       "      <td>117.92</td>\n",
       "      <td>117.9800</td>\n",
       "      <td>117.7650</td>\n",
       "      <td>117.91</td>\n",
       "      <td>5210910</td>\n",
       "      <td>NaN</td>\n",
       "      <td>366.68</td>\n",
       "      <td>368.19</td>\n",
       "      <td>365.50</td>\n",
       "      <td>366.6698</td>\n",
       "      <td>52905586</td>\n",
       "      <td>NaN</td>\n",
       "    </tr>\n",
       "    <tr>\n",
       "      <th>2020-12-04 00:00:00-05:00</th>\n",
       "      <td>117.90</td>\n",
       "      <td>117.9000</td>\n",
       "      <td>117.5133</td>\n",
       "      <td>117.58</td>\n",
       "      <td>4821820</td>\n",
       "      <td>-0.002799</td>\n",
       "      <td>367.32</td>\n",
       "      <td>369.85</td>\n",
       "      <td>367.22</td>\n",
       "      <td>369.8300</td>\n",
       "      <td>40264568</td>\n",
       "      <td>0.008619</td>\n",
       "    </tr>\n",
       "    <tr>\n",
       "      <th>2020-12-07 00:00:00-05:00</th>\n",
       "      <td>117.76</td>\n",
       "      <td>117.8262</td>\n",
       "      <td>117.6900</td>\n",
       "      <td>117.75</td>\n",
       "      <td>4689469</td>\n",
       "      <td>0.001446</td>\n",
       "      <td>369.02</td>\n",
       "      <td>369.62</td>\n",
       "      <td>367.72</td>\n",
       "      <td>369.1200</td>\n",
       "      <td>40456544</td>\n",
       "      <td>-0.001920</td>\n",
       "    </tr>\n",
       "    <tr>\n",
       "      <th>2020-12-08 00:00:00-05:00</th>\n",
       "      <td>117.88</td>\n",
       "      <td>117.9597</td>\n",
       "      <td>117.7500</td>\n",
       "      <td>117.77</td>\n",
       "      <td>3587353</td>\n",
       "      <td>0.000170</td>\n",
       "      <td>367.72</td>\n",
       "      <td>370.78</td>\n",
       "      <td>367.67</td>\n",
       "      <td>370.1599</td>\n",
       "      <td>32702217</td>\n",
       "      <td>0.002817</td>\n",
       "    </tr>\n",
       "    <tr>\n",
       "      <th>2020-12-09 00:00:00-05:00</th>\n",
       "      <td>117.73</td>\n",
       "      <td>117.7800</td>\n",
       "      <td>117.5172</td>\n",
       "      <td>117.62</td>\n",
       "      <td>4720359</td>\n",
       "      <td>-0.001274</td>\n",
       "      <td>370.88</td>\n",
       "      <td>371.05</td>\n",
       "      <td>365.95</td>\n",
       "      <td>366.8900</td>\n",
       "      <td>60700254</td>\n",
       "      <td>-0.008834</td>\n",
       "    </tr>\n",
       "  </tbody>\n",
       "</table>\n",
       "</div>"
      ],
      "text/plain": [
       "                              AGG                                       \\\n",
       "                             open      high       low   close   volume   \n",
       "time                                                                     \n",
       "2020-12-03 00:00:00-05:00  117.92  117.9800  117.7650  117.91  5210910   \n",
       "2020-12-04 00:00:00-05:00  117.90  117.9000  117.5133  117.58  4821820   \n",
       "2020-12-07 00:00:00-05:00  117.76  117.8262  117.6900  117.75  4689469   \n",
       "2020-12-08 00:00:00-05:00  117.88  117.9597  117.7500  117.77  3587353   \n",
       "2020-12-09 00:00:00-05:00  117.73  117.7800  117.5172  117.62  4720359   \n",
       "\n",
       "                                           SPY                            \\\n",
       "                          daily_return    open    high     low     close   \n",
       "time                                                                       \n",
       "2020-12-03 00:00:00-05:00          NaN  366.68  368.19  365.50  366.6698   \n",
       "2020-12-04 00:00:00-05:00    -0.002799  367.32  369.85  367.22  369.8300   \n",
       "2020-12-07 00:00:00-05:00     0.001446  369.02  369.62  367.72  369.1200   \n",
       "2020-12-08 00:00:00-05:00     0.000170  367.72  370.78  367.67  370.1599   \n",
       "2020-12-09 00:00:00-05:00    -0.001274  370.88  371.05  365.95  366.8900   \n",
       "\n",
       "                                                  \n",
       "                             volume daily_return  \n",
       "time                                              \n",
       "2020-12-03 00:00:00-05:00  52905586          NaN  \n",
       "2020-12-04 00:00:00-05:00  40264568     0.008619  \n",
       "2020-12-07 00:00:00-05:00  40456544    -0.001920  \n",
       "2020-12-08 00:00:00-05:00  32702217     0.002817  \n",
       "2020-12-09 00:00:00-05:00  60700254    -0.008834  "
      ]
     },
     "execution_count": 65,
     "metadata": {},
     "output_type": "execute_result"
    }
   ],
   "source": [
    "# Configure the Monte Carlo simulation to forecast 30 years cumulative returns\n",
    "# The weights should be split 40% to AGG and 60% to SPY.\n",
    "# Run 500 samples.\n",
    "\n",
    "MC_thirtyyear_cumulative = MCSimulation(\n",
    "    portfolio_data = stocks_bonds_df,\n",
    "    weights = [.60, .40],\n",
    "    num_simulation = 500,\n",
    "    num_trading_days = 252 * 30\n",
    ")\n",
    "# Review the simulation input data\n",
    "MC_thirtyyear_cumulative.portfolio_data.head()\n"
   ]
  },
  {
   "cell_type": "code",
   "execution_count": 67,
   "metadata": {},
   "outputs": [
    {
     "name": "stdout",
     "output_type": "stream",
     "text": [
      "Running Monte Carlo simulation number 0.\n",
      "Running Monte Carlo simulation number 10.\n",
      "Running Monte Carlo simulation number 20.\n",
      "Running Monte Carlo simulation number 30.\n",
      "Running Monte Carlo simulation number 40.\n",
      "Running Monte Carlo simulation number 50.\n",
      "Running Monte Carlo simulation number 60.\n",
      "Running Monte Carlo simulation number 70.\n",
      "Running Monte Carlo simulation number 80.\n",
      "Running Monte Carlo simulation number 90.\n",
      "Running Monte Carlo simulation number 100.\n",
      "Running Monte Carlo simulation number 110.\n",
      "Running Monte Carlo simulation number 120.\n",
      "Running Monte Carlo simulation number 130.\n",
      "Running Monte Carlo simulation number 140.\n",
      "Running Monte Carlo simulation number 150.\n",
      "Running Monte Carlo simulation number 160.\n",
      "Running Monte Carlo simulation number 170.\n",
      "Running Monte Carlo simulation number 180.\n",
      "Running Monte Carlo simulation number 190.\n",
      "Running Monte Carlo simulation number 200.\n",
      "Running Monte Carlo simulation number 210.\n",
      "Running Monte Carlo simulation number 220.\n",
      "Running Monte Carlo simulation number 230.\n",
      "Running Monte Carlo simulation number 240.\n",
      "Running Monte Carlo simulation number 250.\n",
      "Running Monte Carlo simulation number 260.\n",
      "Running Monte Carlo simulation number 270.\n",
      "Running Monte Carlo simulation number 280.\n",
      "Running Monte Carlo simulation number 290.\n",
      "Running Monte Carlo simulation number 300.\n",
      "Running Monte Carlo simulation number 310.\n",
      "Running Monte Carlo simulation number 320.\n",
      "Running Monte Carlo simulation number 330.\n",
      "Running Monte Carlo simulation number 340.\n",
      "Running Monte Carlo simulation number 350.\n",
      "Running Monte Carlo simulation number 360.\n",
      "Running Monte Carlo simulation number 370.\n",
      "Running Monte Carlo simulation number 380.\n",
      "Running Monte Carlo simulation number 390.\n",
      "Running Monte Carlo simulation number 400.\n",
      "Running Monte Carlo simulation number 410.\n",
      "Running Monte Carlo simulation number 420.\n",
      "Running Monte Carlo simulation number 430.\n",
      "Running Monte Carlo simulation number 440.\n",
      "Running Monte Carlo simulation number 450.\n",
      "Running Monte Carlo simulation number 460.\n",
      "Running Monte Carlo simulation number 470.\n",
      "Running Monte Carlo simulation number 480.\n",
      "Running Monte Carlo simulation number 490.\n"
     ]
    },
    {
     "data": {
      "text/html": [
       "<div>\n",
       "<style scoped>\n",
       "    .dataframe tbody tr th:only-of-type {\n",
       "        vertical-align: middle;\n",
       "    }\n",
       "\n",
       "    .dataframe tbody tr th {\n",
       "        vertical-align: top;\n",
       "    }\n",
       "\n",
       "    .dataframe thead th {\n",
       "        text-align: right;\n",
       "    }\n",
       "</style>\n",
       "<table border=\"1\" class=\"dataframe\">\n",
       "  <thead>\n",
       "    <tr style=\"text-align: right;\">\n",
       "      <th></th>\n",
       "      <th>0</th>\n",
       "      <th>1</th>\n",
       "      <th>2</th>\n",
       "      <th>3</th>\n",
       "      <th>4</th>\n",
       "      <th>5</th>\n",
       "      <th>6</th>\n",
       "      <th>7</th>\n",
       "      <th>8</th>\n",
       "      <th>9</th>\n",
       "      <th>...</th>\n",
       "      <th>490</th>\n",
       "      <th>491</th>\n",
       "      <th>492</th>\n",
       "      <th>493</th>\n",
       "      <th>494</th>\n",
       "      <th>495</th>\n",
       "      <th>496</th>\n",
       "      <th>497</th>\n",
       "      <th>498</th>\n",
       "      <th>499</th>\n",
       "    </tr>\n",
       "  </thead>\n",
       "  <tbody>\n",
       "    <tr>\n",
       "      <th>0</th>\n",
       "      <td>1.000000</td>\n",
       "      <td>1.000000</td>\n",
       "      <td>1.000000</td>\n",
       "      <td>1.000000</td>\n",
       "      <td>1.000000</td>\n",
       "      <td>1.000000</td>\n",
       "      <td>1.000000</td>\n",
       "      <td>1.000000</td>\n",
       "      <td>1.000000</td>\n",
       "      <td>1.000000</td>\n",
       "      <td>...</td>\n",
       "      <td>1.000000</td>\n",
       "      <td>1.000000</td>\n",
       "      <td>1.000000</td>\n",
       "      <td>1.000000</td>\n",
       "      <td>1.000000</td>\n",
       "      <td>1.000000</td>\n",
       "      <td>1.000000</td>\n",
       "      <td>1.000000</td>\n",
       "      <td>1.000000</td>\n",
       "      <td>1.000000</td>\n",
       "    </tr>\n",
       "    <tr>\n",
       "      <th>1</th>\n",
       "      <td>1.001798</td>\n",
       "      <td>1.008450</td>\n",
       "      <td>0.998834</td>\n",
       "      <td>1.005781</td>\n",
       "      <td>0.997039</td>\n",
       "      <td>0.999269</td>\n",
       "      <td>0.997343</td>\n",
       "      <td>0.993153</td>\n",
       "      <td>0.996409</td>\n",
       "      <td>0.999272</td>\n",
       "      <td>...</td>\n",
       "      <td>1.004760</td>\n",
       "      <td>1.003922</td>\n",
       "      <td>0.999743</td>\n",
       "      <td>0.995914</td>\n",
       "      <td>0.997809</td>\n",
       "      <td>1.002408</td>\n",
       "      <td>1.002055</td>\n",
       "      <td>1.003837</td>\n",
       "      <td>0.998263</td>\n",
       "      <td>0.993511</td>\n",
       "    </tr>\n",
       "    <tr>\n",
       "      <th>2</th>\n",
       "      <td>0.997876</td>\n",
       "      <td>1.009416</td>\n",
       "      <td>1.010162</td>\n",
       "      <td>1.006693</td>\n",
       "      <td>0.994270</td>\n",
       "      <td>1.003398</td>\n",
       "      <td>0.999932</td>\n",
       "      <td>0.987127</td>\n",
       "      <td>0.992105</td>\n",
       "      <td>1.000188</td>\n",
       "      <td>...</td>\n",
       "      <td>1.010056</td>\n",
       "      <td>1.004450</td>\n",
       "      <td>1.001126</td>\n",
       "      <td>0.998247</td>\n",
       "      <td>1.000753</td>\n",
       "      <td>1.010665</td>\n",
       "      <td>1.004104</td>\n",
       "      <td>1.006875</td>\n",
       "      <td>1.001393</td>\n",
       "      <td>0.991791</td>\n",
       "    </tr>\n",
       "    <tr>\n",
       "      <th>3</th>\n",
       "      <td>0.997077</td>\n",
       "      <td>1.014854</td>\n",
       "      <td>1.010405</td>\n",
       "      <td>1.009188</td>\n",
       "      <td>0.999857</td>\n",
       "      <td>1.002422</td>\n",
       "      <td>0.999325</td>\n",
       "      <td>0.984785</td>\n",
       "      <td>0.993965</td>\n",
       "      <td>1.002998</td>\n",
       "      <td>...</td>\n",
       "      <td>1.010408</td>\n",
       "      <td>1.006078</td>\n",
       "      <td>1.005068</td>\n",
       "      <td>0.997246</td>\n",
       "      <td>0.999272</td>\n",
       "      <td>1.015596</td>\n",
       "      <td>1.010315</td>\n",
       "      <td>1.012095</td>\n",
       "      <td>1.005090</td>\n",
       "      <td>0.996512</td>\n",
       "    </tr>\n",
       "    <tr>\n",
       "      <th>4</th>\n",
       "      <td>0.998137</td>\n",
       "      <td>1.017031</td>\n",
       "      <td>1.007396</td>\n",
       "      <td>1.011533</td>\n",
       "      <td>1.006675</td>\n",
       "      <td>0.994855</td>\n",
       "      <td>0.995597</td>\n",
       "      <td>0.988222</td>\n",
       "      <td>0.991765</td>\n",
       "      <td>0.999093</td>\n",
       "      <td>...</td>\n",
       "      <td>1.007806</td>\n",
       "      <td>1.013568</td>\n",
       "      <td>1.007738</td>\n",
       "      <td>0.992822</td>\n",
       "      <td>0.997573</td>\n",
       "      <td>1.019755</td>\n",
       "      <td>1.010702</td>\n",
       "      <td>1.016698</td>\n",
       "      <td>1.008025</td>\n",
       "      <td>0.997369</td>\n",
       "    </tr>\n",
       "    <tr>\n",
       "      <th>...</th>\n",
       "      <td>...</td>\n",
       "      <td>...</td>\n",
       "      <td>...</td>\n",
       "      <td>...</td>\n",
       "      <td>...</td>\n",
       "      <td>...</td>\n",
       "      <td>...</td>\n",
       "      <td>...</td>\n",
       "      <td>...</td>\n",
       "      <td>...</td>\n",
       "      <td>...</td>\n",
       "      <td>...</td>\n",
       "      <td>...</td>\n",
       "      <td>...</td>\n",
       "      <td>...</td>\n",
       "      <td>...</td>\n",
       "      <td>...</td>\n",
       "      <td>...</td>\n",
       "      <td>...</td>\n",
       "      <td>...</td>\n",
       "      <td>...</td>\n",
       "    </tr>\n",
       "    <tr>\n",
       "      <th>7556</th>\n",
       "      <td>10.697011</td>\n",
       "      <td>14.212890</td>\n",
       "      <td>13.317813</td>\n",
       "      <td>14.151560</td>\n",
       "      <td>13.393355</td>\n",
       "      <td>16.045214</td>\n",
       "      <td>21.910448</td>\n",
       "      <td>14.345516</td>\n",
       "      <td>13.134455</td>\n",
       "      <td>20.977481</td>\n",
       "      <td>...</td>\n",
       "      <td>6.191735</td>\n",
       "      <td>18.284472</td>\n",
       "      <td>9.983804</td>\n",
       "      <td>11.647681</td>\n",
       "      <td>10.517744</td>\n",
       "      <td>7.090507</td>\n",
       "      <td>13.427548</td>\n",
       "      <td>16.957103</td>\n",
       "      <td>17.303348</td>\n",
       "      <td>12.912685</td>\n",
       "    </tr>\n",
       "    <tr>\n",
       "      <th>7557</th>\n",
       "      <td>10.732467</td>\n",
       "      <td>14.169685</td>\n",
       "      <td>13.354945</td>\n",
       "      <td>14.135498</td>\n",
       "      <td>13.378031</td>\n",
       "      <td>16.096597</td>\n",
       "      <td>21.869674</td>\n",
       "      <td>14.316045</td>\n",
       "      <td>13.163225</td>\n",
       "      <td>21.050393</td>\n",
       "      <td>...</td>\n",
       "      <td>6.187733</td>\n",
       "      <td>18.278357</td>\n",
       "      <td>10.042605</td>\n",
       "      <td>11.653566</td>\n",
       "      <td>10.464551</td>\n",
       "      <td>7.120926</td>\n",
       "      <td>13.477626</td>\n",
       "      <td>17.016807</td>\n",
       "      <td>17.201755</td>\n",
       "      <td>12.935454</td>\n",
       "    </tr>\n",
       "    <tr>\n",
       "      <th>7558</th>\n",
       "      <td>10.771749</td>\n",
       "      <td>14.184717</td>\n",
       "      <td>13.352804</td>\n",
       "      <td>14.109874</td>\n",
       "      <td>13.351956</td>\n",
       "      <td>16.146453</td>\n",
       "      <td>21.666589</td>\n",
       "      <td>14.313747</td>\n",
       "      <td>13.169663</td>\n",
       "      <td>21.106448</td>\n",
       "      <td>...</td>\n",
       "      <td>6.136656</td>\n",
       "      <td>18.482263</td>\n",
       "      <td>10.095314</td>\n",
       "      <td>11.613910</td>\n",
       "      <td>10.455831</td>\n",
       "      <td>7.130994</td>\n",
       "      <td>13.496961</td>\n",
       "      <td>17.049977</td>\n",
       "      <td>17.342704</td>\n",
       "      <td>12.960521</td>\n",
       "    </tr>\n",
       "    <tr>\n",
       "      <th>7559</th>\n",
       "      <td>10.791441</td>\n",
       "      <td>14.146254</td>\n",
       "      <td>13.407315</td>\n",
       "      <td>14.172233</td>\n",
       "      <td>13.359336</td>\n",
       "      <td>16.209767</td>\n",
       "      <td>21.659690</td>\n",
       "      <td>14.326816</td>\n",
       "      <td>13.172931</td>\n",
       "      <td>21.110762</td>\n",
       "      <td>...</td>\n",
       "      <td>6.109640</td>\n",
       "      <td>18.624883</td>\n",
       "      <td>10.069961</td>\n",
       "      <td>11.601914</td>\n",
       "      <td>10.474719</td>\n",
       "      <td>7.127884</td>\n",
       "      <td>13.485107</td>\n",
       "      <td>17.070520</td>\n",
       "      <td>17.400919</td>\n",
       "      <td>12.890976</td>\n",
       "    </tr>\n",
       "    <tr>\n",
       "      <th>7560</th>\n",
       "      <td>10.797233</td>\n",
       "      <td>14.150404</td>\n",
       "      <td>13.390187</td>\n",
       "      <td>14.141273</td>\n",
       "      <td>13.453120</td>\n",
       "      <td>16.212030</td>\n",
       "      <td>21.676285</td>\n",
       "      <td>14.401205</td>\n",
       "      <td>13.229553</td>\n",
       "      <td>21.103987</td>\n",
       "      <td>...</td>\n",
       "      <td>6.101341</td>\n",
       "      <td>18.664364</td>\n",
       "      <td>9.957077</td>\n",
       "      <td>11.565006</td>\n",
       "      <td>10.506924</td>\n",
       "      <td>7.090233</td>\n",
       "      <td>13.488536</td>\n",
       "      <td>17.111937</td>\n",
       "      <td>17.449747</td>\n",
       "      <td>12.915330</td>\n",
       "    </tr>\n",
       "  </tbody>\n",
       "</table>\n",
       "<p>7561 rows × 500 columns</p>\n",
       "</div>"
      ],
      "text/plain": [
       "            0          1          2          3          4          5    \\\n",
       "0      1.000000   1.000000   1.000000   1.000000   1.000000   1.000000   \n",
       "1      1.001798   1.008450   0.998834   1.005781   0.997039   0.999269   \n",
       "2      0.997876   1.009416   1.010162   1.006693   0.994270   1.003398   \n",
       "3      0.997077   1.014854   1.010405   1.009188   0.999857   1.002422   \n",
       "4      0.998137   1.017031   1.007396   1.011533   1.006675   0.994855   \n",
       "...         ...        ...        ...        ...        ...        ...   \n",
       "7556  10.697011  14.212890  13.317813  14.151560  13.393355  16.045214   \n",
       "7557  10.732467  14.169685  13.354945  14.135498  13.378031  16.096597   \n",
       "7558  10.771749  14.184717  13.352804  14.109874  13.351956  16.146453   \n",
       "7559  10.791441  14.146254  13.407315  14.172233  13.359336  16.209767   \n",
       "7560  10.797233  14.150404  13.390187  14.141273  13.453120  16.212030   \n",
       "\n",
       "            6          7          8          9    ...       490        491  \\\n",
       "0      1.000000   1.000000   1.000000   1.000000  ...  1.000000   1.000000   \n",
       "1      0.997343   0.993153   0.996409   0.999272  ...  1.004760   1.003922   \n",
       "2      0.999932   0.987127   0.992105   1.000188  ...  1.010056   1.004450   \n",
       "3      0.999325   0.984785   0.993965   1.002998  ...  1.010408   1.006078   \n",
       "4      0.995597   0.988222   0.991765   0.999093  ...  1.007806   1.013568   \n",
       "...         ...        ...        ...        ...  ...       ...        ...   \n",
       "7556  21.910448  14.345516  13.134455  20.977481  ...  6.191735  18.284472   \n",
       "7557  21.869674  14.316045  13.163225  21.050393  ...  6.187733  18.278357   \n",
       "7558  21.666589  14.313747  13.169663  21.106448  ...  6.136656  18.482263   \n",
       "7559  21.659690  14.326816  13.172931  21.110762  ...  6.109640  18.624883   \n",
       "7560  21.676285  14.401205  13.229553  21.103987  ...  6.101341  18.664364   \n",
       "\n",
       "            492        493        494       495        496        497  \\\n",
       "0      1.000000   1.000000   1.000000  1.000000   1.000000   1.000000   \n",
       "1      0.999743   0.995914   0.997809  1.002408   1.002055   1.003837   \n",
       "2      1.001126   0.998247   1.000753  1.010665   1.004104   1.006875   \n",
       "3      1.005068   0.997246   0.999272  1.015596   1.010315   1.012095   \n",
       "4      1.007738   0.992822   0.997573  1.019755   1.010702   1.016698   \n",
       "...         ...        ...        ...       ...        ...        ...   \n",
       "7556   9.983804  11.647681  10.517744  7.090507  13.427548  16.957103   \n",
       "7557  10.042605  11.653566  10.464551  7.120926  13.477626  17.016807   \n",
       "7558  10.095314  11.613910  10.455831  7.130994  13.496961  17.049977   \n",
       "7559  10.069961  11.601914  10.474719  7.127884  13.485107  17.070520   \n",
       "7560   9.957077  11.565006  10.506924  7.090233  13.488536  17.111937   \n",
       "\n",
       "            498        499  \n",
       "0      1.000000   1.000000  \n",
       "1      0.998263   0.993511  \n",
       "2      1.001393   0.991791  \n",
       "3      1.005090   0.996512  \n",
       "4      1.008025   0.997369  \n",
       "...         ...        ...  \n",
       "7556  17.303348  12.912685  \n",
       "7557  17.201755  12.935454  \n",
       "7558  17.342704  12.960521  \n",
       "7559  17.400919  12.890976  \n",
       "7560  17.449747  12.915330  \n",
       "\n",
       "[7561 rows x 500 columns]"
      ]
     },
     "execution_count": 67,
     "metadata": {},
     "output_type": "execute_result"
    }
   ],
   "source": [
    "# Run the Monte Carlo simulation to forecast 30 years cumulative returns\n",
    "\n",
    "MC_thirtyyear_cumulative.calc_cumulative_return()"
   ]
  },
  {
   "cell_type": "code",
   "execution_count": 68,
   "metadata": {},
   "outputs": [
    {
     "data": {
      "image/png": "[encoded data removed]",
      "text/plain": [
       "<Figure size 432x288 with 1 Axes>"
      ]
     },
     "metadata": {
      "needs_background": "light"
     },
     "output_type": "display_data"
    }
   ],
   "source": [
    "# Visualize the 30-year Monte Carlo simulation by creating an\n",
    "# overlay line plot\n",
    "# YOUR CODE HERE\n",
    "\n",
    "MC_thirty_line_plot = MC_thirtyyear_cumulative.plot_simulation()"
   ]
  },
  {
   "cell_type": "markdown",
   "metadata": {},
   "source": [
    "#### Step 3: Plot the probability distribution of the Monte Carlo simulation."
   ]
  },
  {
   "cell_type": "code",
   "execution_count": 69,
   "metadata": {},
   "outputs": [
    {
     "data": {
      "image/png": "[encoded data removed]",
      "text/plain": [
       "<Figure size 432x288 with 1 Axes>"
      ]
     },
     "metadata": {
      "needs_background": "light"
     },
     "output_type": "display_data"
    }
   ],
   "source": [
    "# Visualize the probability distribution of the 30-year Monte Carlo simulation \n",
    "# by plotting a histogram\n",
    "MC_sim_distribution_plot = MC_thirtyyear_cumulative.plot_distribution()\n"
   ]
  },
  {
   "cell_type": "markdown",
   "metadata": {},
   "source": [
    "#### Step 4: Generate the summary statistics for the Monte Carlo simulation."
   ]
  },
  {
   "cell_type": "code",
   "execution_count": 71,
   "metadata": {},
   "outputs": [
    {
     "name": "stdout",
     "output_type": "stream",
     "text": [
      "count           500.000000\n",
      "mean             15.062467\n",
      "std               5.201001\n",
      "min               5.539326\n",
      "25%              11.540400\n",
      "50%              13.956219\n",
      "75%              17.687467\n",
      "max              39.328930\n",
      "95% CI Lower      7.812433\n",
      "95% CI Upper     26.821047\n",
      "Name: 7560, dtype: float64\n"
     ]
    }
   ],
   "source": [
    "# Generate summary statistics from the 30-year Monte Carlo simulation results\n",
    "# Save the results as a variable\n",
    "MC_summary_statistics = MC_thirtyyear_cumulative.summarize_cumulative_return()\n",
    "\n",
    "\n",
    "# Review the 30-year Monte Carlo summary statistics\n",
    "print(MC_summary_statistics)"
   ]
  },
  {
   "cell_type": "markdown",
   "metadata": {},
   "source": [
    "### Analyze the Retirement Portfolio Forecasts\n",
    "\n",
    "Using the current value of only the stock and bond portion of the member's portfolio and the summary statistics that you generated from the Monte Carlo simulation, answer the following question in your Jupyter notebook:\n",
    "\n",
    "-  What are the lower and upper bounds for the expected value of the portfolio with a 95% confidence interval?\n"
   ]
  },
  {
   "cell_type": "code",
   "execution_count": 73,
   "metadata": {},
   "outputs": [
    {
     "data": {
      "text/plain": [
       "106458.0"
      ]
     },
     "execution_count": 73,
     "metadata": {},
     "output_type": "execute_result"
    }
   ],
   "source": [
    "# Print the current balance of the stock and bond portion of the members portfolio\n",
    "total_stocks_bonds"
   ]
  },
  {
   "cell_type": "code",
   "execution_count": 76,
   "metadata": {},
   "outputs": [
    {
     "name": "stdout",
     "output_type": "stream",
     "text": [
      "There is a 95% chance that if you invest your total stock and bonds portfolio in the next thirty years your investment will fall between  831696.03 and $ 2855314.98\n"
     ]
    }
   ],
   "source": [
    "# Use the lower and upper `95%` confidence intervals to calculate the range of the possible outcomes for the current stock/bond portfolio\n",
    "ci_lower_thirty_cumulative_return = MC_summary_statistics[8] * total_stocks_bonds\n",
    "ci_upper_thirty_cumulative_return = MC_summary_statistics[9] * total_stocks_bonds\n",
    "\n",
    "# Print the result of your calculations\n",
    "print(f'There is a 95% chance that if you invest your total stock and bonds portfolio in the next thirty years your investment will fall between {ci_lower_thirty_cumulative_return: .2f} and ${ci_upper_thirty_cumulative_return: .2f}')\n"
   ]
  },
  {
   "cell_type": "markdown",
   "metadata": {},
   "source": [
    "### Forecast Cumulative Returns in 10 Years\n",
    "\n",
    "The CTO of the credit union is impressed with your work on these planning tools but wonders if 30 years is a long time to wait until retirement. So, your next task is to adjust the retirement portfolio and run a new Monte Carlo simulation to find out if the changes will allow members to retire earlier.\n",
    "\n",
    "For this new Monte Carlo simulation, do the following: \n",
    "\n",
    "- Forecast the cumulative returns for 10 years from now. Because of the shortened investment horizon (30 years to 10 years), the portfolio needs to invest more heavily in the riskier asset&mdash;that is, stock&mdash;to help accumulate wealth for retirement. \n",
    "\n",
    "- Adjust the weights of the retirement portfolio so that the composition for the Monte Carlo simulation consists of 20% bonds and 80% stocks. \n",
    "\n",
    "- Run the simulation over 500 samples, and use the same data that the API call to Alpaca generated.\n",
    "\n",
    "- Based on the new Monte Carlo simulation, answer the following questions in your Jupyter notebook:\n",
    "\n",
    "    - Using the current value of only the stock and bond portion of the member's portfolio and the summary statistics that you generated from the new Monte Carlo simulation, what are the lower and upper bounds for the expected value of the portfolio (with the new weights) with a 95% confidence interval?\n",
    "\n",
    "    - Will weighting the portfolio more heavily toward stocks allow the credit union members to retire after only 10 years?\n"
   ]
  },
  {
   "cell_type": "code",
   "execution_count": 78,
   "metadata": {},
   "outputs": [
    {
     "data": {
      "text/html": [
       "<div>\n",
       "<style scoped>\n",
       "    .dataframe tbody tr th:only-of-type {\n",
       "        vertical-align: middle;\n",
       "    }\n",
       "\n",
       "    .dataframe tbody tr th {\n",
       "        vertical-align: top;\n",
       "    }\n",
       "\n",
       "    .dataframe thead tr th {\n",
       "        text-align: left;\n",
       "    }\n",
       "\n",
       "    .dataframe thead tr:last-of-type th {\n",
       "        text-align: right;\n",
       "    }\n",
       "</style>\n",
       "<table border=\"1\" class=\"dataframe\">\n",
       "  <thead>\n",
       "    <tr>\n",
       "      <th></th>\n",
       "      <th colspan=\"6\" halign=\"left\">AGG</th>\n",
       "      <th colspan=\"6\" halign=\"left\">SPY</th>\n",
       "    </tr>\n",
       "    <tr>\n",
       "      <th></th>\n",
       "      <th>open</th>\n",
       "      <th>high</th>\n",
       "      <th>low</th>\n",
       "      <th>close</th>\n",
       "      <th>volume</th>\n",
       "      <th>daily_return</th>\n",
       "      <th>open</th>\n",
       "      <th>high</th>\n",
       "      <th>low</th>\n",
       "      <th>close</th>\n",
       "      <th>volume</th>\n",
       "      <th>daily_return</th>\n",
       "    </tr>\n",
       "    <tr>\n",
       "      <th>time</th>\n",
       "      <th></th>\n",
       "      <th></th>\n",
       "      <th></th>\n",
       "      <th></th>\n",
       "      <th></th>\n",
       "      <th></th>\n",
       "      <th></th>\n",
       "      <th></th>\n",
       "      <th></th>\n",
       "      <th></th>\n",
       "      <th></th>\n",
       "      <th></th>\n",
       "    </tr>\n",
       "  </thead>\n",
       "  <tbody>\n",
       "    <tr>\n",
       "      <th>2020-12-03 00:00:00-05:00</th>\n",
       "      <td>117.92</td>\n",
       "      <td>117.9800</td>\n",
       "      <td>117.7650</td>\n",
       "      <td>117.91</td>\n",
       "      <td>5210910</td>\n",
       "      <td>NaN</td>\n",
       "      <td>366.68</td>\n",
       "      <td>368.19</td>\n",
       "      <td>365.50</td>\n",
       "      <td>366.6698</td>\n",
       "      <td>52905586</td>\n",
       "      <td>NaN</td>\n",
       "    </tr>\n",
       "    <tr>\n",
       "      <th>2020-12-04 00:00:00-05:00</th>\n",
       "      <td>117.90</td>\n",
       "      <td>117.9000</td>\n",
       "      <td>117.5133</td>\n",
       "      <td>117.58</td>\n",
       "      <td>4821820</td>\n",
       "      <td>-0.002799</td>\n",
       "      <td>367.32</td>\n",
       "      <td>369.85</td>\n",
       "      <td>367.22</td>\n",
       "      <td>369.8300</td>\n",
       "      <td>40264568</td>\n",
       "      <td>0.008619</td>\n",
       "    </tr>\n",
       "    <tr>\n",
       "      <th>2020-12-07 00:00:00-05:00</th>\n",
       "      <td>117.76</td>\n",
       "      <td>117.8262</td>\n",
       "      <td>117.6900</td>\n",
       "      <td>117.75</td>\n",
       "      <td>4689469</td>\n",
       "      <td>0.001446</td>\n",
       "      <td>369.02</td>\n",
       "      <td>369.62</td>\n",
       "      <td>367.72</td>\n",
       "      <td>369.1200</td>\n",
       "      <td>40456544</td>\n",
       "      <td>-0.001920</td>\n",
       "    </tr>\n",
       "    <tr>\n",
       "      <th>2020-12-08 00:00:00-05:00</th>\n",
       "      <td>117.88</td>\n",
       "      <td>117.9597</td>\n",
       "      <td>117.7500</td>\n",
       "      <td>117.77</td>\n",
       "      <td>3587353</td>\n",
       "      <td>0.000170</td>\n",
       "      <td>367.72</td>\n",
       "      <td>370.78</td>\n",
       "      <td>367.67</td>\n",
       "      <td>370.1599</td>\n",
       "      <td>32702217</td>\n",
       "      <td>0.002817</td>\n",
       "    </tr>\n",
       "    <tr>\n",
       "      <th>2020-12-09 00:00:00-05:00</th>\n",
       "      <td>117.73</td>\n",
       "      <td>117.7800</td>\n",
       "      <td>117.5172</td>\n",
       "      <td>117.62</td>\n",
       "      <td>4720359</td>\n",
       "      <td>-0.001274</td>\n",
       "      <td>370.88</td>\n",
       "      <td>371.05</td>\n",
       "      <td>365.95</td>\n",
       "      <td>366.8900</td>\n",
       "      <td>60700254</td>\n",
       "      <td>-0.008834</td>\n",
       "    </tr>\n",
       "  </tbody>\n",
       "</table>\n",
       "</div>"
      ],
      "text/plain": [
       "                              AGG                                       \\\n",
       "                             open      high       low   close   volume   \n",
       "time                                                                     \n",
       "2020-12-03 00:00:00-05:00  117.92  117.9800  117.7650  117.91  5210910   \n",
       "2020-12-04 00:00:00-05:00  117.90  117.9000  117.5133  117.58  4821820   \n",
       "2020-12-07 00:00:00-05:00  117.76  117.8262  117.6900  117.75  4689469   \n",
       "2020-12-08 00:00:00-05:00  117.88  117.9597  117.7500  117.77  3587353   \n",
       "2020-12-09 00:00:00-05:00  117.73  117.7800  117.5172  117.62  4720359   \n",
       "\n",
       "                                           SPY                            \\\n",
       "                          daily_return    open    high     low     close   \n",
       "time                                                                       \n",
       "2020-12-03 00:00:00-05:00          NaN  366.68  368.19  365.50  366.6698   \n",
       "2020-12-04 00:00:00-05:00    -0.002799  367.32  369.85  367.22  369.8300   \n",
       "2020-12-07 00:00:00-05:00     0.001446  369.02  369.62  367.72  369.1200   \n",
       "2020-12-08 00:00:00-05:00     0.000170  367.72  370.78  367.67  370.1599   \n",
       "2020-12-09 00:00:00-05:00    -0.001274  370.88  371.05  365.95  366.8900   \n",
       "\n",
       "                                                  \n",
       "                             volume daily_return  \n",
       "time                                              \n",
       "2020-12-03 00:00:00-05:00  52905586          NaN  \n",
       "2020-12-04 00:00:00-05:00  40264568     0.008619  \n",
       "2020-12-07 00:00:00-05:00  40456544    -0.001920  \n",
       "2020-12-08 00:00:00-05:00  32702217     0.002817  \n",
       "2020-12-09 00:00:00-05:00  60700254    -0.008834  "
      ]
     },
     "execution_count": 78,
     "metadata": {},
     "output_type": "execute_result"
    }
   ],
   "source": [
    "# Configure a Monte Carlo simulation to forecast 10 years cumulative returns\n",
    "# The weights should be split 20% to AGG and 80% to SPY.\n",
    "# Run 500 samples.\n",
    "MC_tenyear = MCSimulation(\n",
    "    portfolio_data = stocks_bonds_df,\n",
    "    weights = [.20,.80],\n",
    "    num_simulation = 500,\n",
    "    num_trading_days = 252 * 10\n",
    ")\n",
    "\n",
    "# Review the simulation input data\n",
    "MC_tenyear.portfolio_data.head()\n"
   ]
  },
  {
   "cell_type": "code",
   "execution_count": 79,
   "metadata": {},
   "outputs": [
    {
     "name": "stdout",
     "output_type": "stream",
     "text": [
      "Running Monte Carlo simulation number 0.\n",
      "Running Monte Carlo simulation number 10.\n",
      "Running Monte Carlo simulation number 20.\n",
      "Running Monte Carlo simulation number 30.\n",
      "Running Monte Carlo simulation number 40.\n",
      "Running Monte Carlo simulation number 50.\n",
      "Running Monte Carlo simulation number 60.\n",
      "Running Monte Carlo simulation number 70.\n",
      "Running Monte Carlo simulation number 80.\n",
      "Running Monte Carlo simulation number 90.\n",
      "Running Monte Carlo simulation number 100.\n",
      "Running Monte Carlo simulation number 110.\n",
      "Running Monte Carlo simulation number 120.\n",
      "Running Monte Carlo simulation number 130.\n",
      "Running Monte Carlo simulation number 140.\n",
      "Running Monte Carlo simulation number 150.\n",
      "Running Monte Carlo simulation number 160.\n",
      "Running Monte Carlo simulation number 170.\n",
      "Running Monte Carlo simulation number 180.\n",
      "Running Monte Carlo simulation number 190.\n",
      "Running Monte Carlo simulation number 200.\n",
      "Running Monte Carlo simulation number 210.\n",
      "Running Monte Carlo simulation number 220.\n",
      "Running Monte Carlo simulation number 230.\n",
      "Running Monte Carlo simulation number 240.\n",
      "Running Monte Carlo simulation number 250.\n",
      "Running Monte Carlo simulation number 260.\n",
      "Running Monte Carlo simulation number 270.\n",
      "Running Monte Carlo simulation number 280.\n",
      "Running Monte Carlo simulation number 290.\n",
      "Running Monte Carlo simulation number 300.\n",
      "Running Monte Carlo simulation number 310.\n",
      "Running Monte Carlo simulation number 320.\n",
      "Running Monte Carlo simulation number 330.\n",
      "Running Monte Carlo simulation number 340.\n",
      "Running Monte Carlo simulation number 350.\n",
      "Running Monte Carlo simulation number 360.\n",
      "Running Monte Carlo simulation number 370.\n",
      "Running Monte Carlo simulation number 380.\n",
      "Running Monte Carlo simulation number 390.\n",
      "Running Monte Carlo simulation number 400.\n",
      "Running Monte Carlo simulation number 410.\n",
      "Running Monte Carlo simulation number 420.\n",
      "Running Monte Carlo simulation number 430.\n",
      "Running Monte Carlo simulation number 440.\n",
      "Running Monte Carlo simulation number 450.\n",
      "Running Monte Carlo simulation number 460.\n",
      "Running Monte Carlo simulation number 470.\n",
      "Running Monte Carlo simulation number 480.\n",
      "Running Monte Carlo simulation number 490.\n"
     ]
    },
    {
     "data": {
      "text/html": [
       "<div>\n",
       "<style scoped>\n",
       "    .dataframe tbody tr th:only-of-type {\n",
       "        vertical-align: middle;\n",
       "    }\n",
       "\n",
       "    .dataframe tbody tr th {\n",
       "        vertical-align: top;\n",
       "    }\n",
       "\n",
       "    .dataframe thead th {\n",
       "        text-align: right;\n",
       "    }\n",
       "</style>\n",
       "<table border=\"1\" class=\"dataframe\">\n",
       "  <thead>\n",
       "    <tr style=\"text-align: right;\">\n",
       "      <th></th>\n",
       "      <th>0</th>\n",
       "      <th>1</th>\n",
       "      <th>2</th>\n",
       "      <th>3</th>\n",
       "      <th>4</th>\n",
       "      <th>5</th>\n",
       "      <th>6</th>\n",
       "      <th>7</th>\n",
       "      <th>8</th>\n",
       "      <th>9</th>\n",
       "      <th>...</th>\n",
       "      <th>490</th>\n",
       "      <th>491</th>\n",
       "      <th>492</th>\n",
       "      <th>493</th>\n",
       "      <th>494</th>\n",
       "      <th>495</th>\n",
       "      <th>496</th>\n",
       "      <th>497</th>\n",
       "      <th>498</th>\n",
       "      <th>499</th>\n",
       "    </tr>\n",
       "  </thead>\n",
       "  <tbody>\n",
       "    <tr>\n",
       "      <th>0</th>\n",
       "      <td>1.000000</td>\n",
       "      <td>1.000000</td>\n",
       "      <td>1.000000</td>\n",
       "      <td>1.000000</td>\n",
       "      <td>1.000000</td>\n",
       "      <td>1.000000</td>\n",
       "      <td>1.000000</td>\n",
       "      <td>1.000000</td>\n",
       "      <td>1.000000</td>\n",
       "      <td>1.000000</td>\n",
       "      <td>...</td>\n",
       "      <td>1.000000</td>\n",
       "      <td>1.000000</td>\n",
       "      <td>1.000000</td>\n",
       "      <td>1.000000</td>\n",
       "      <td>1.000000</td>\n",
       "      <td>1.000000</td>\n",
       "      <td>1.000000</td>\n",
       "      <td>1.000000</td>\n",
       "      <td>1.000000</td>\n",
       "      <td>1.000000</td>\n",
       "    </tr>\n",
       "    <tr>\n",
       "      <th>1</th>\n",
       "      <td>1.005554</td>\n",
       "      <td>1.007406</td>\n",
       "      <td>1.007203</td>\n",
       "      <td>1.001883</td>\n",
       "      <td>0.990117</td>\n",
       "      <td>1.000124</td>\n",
       "      <td>1.004481</td>\n",
       "      <td>1.000694</td>\n",
       "      <td>0.994517</td>\n",
       "      <td>1.004340</td>\n",
       "      <td>...</td>\n",
       "      <td>1.010687</td>\n",
       "      <td>0.996528</td>\n",
       "      <td>1.011888</td>\n",
       "      <td>1.003527</td>\n",
       "      <td>0.996715</td>\n",
       "      <td>1.000176</td>\n",
       "      <td>0.995959</td>\n",
       "      <td>1.000598</td>\n",
       "      <td>1.006653</td>\n",
       "      <td>1.004588</td>\n",
       "    </tr>\n",
       "    <tr>\n",
       "      <th>2</th>\n",
       "      <td>1.010583</td>\n",
       "      <td>1.001020</td>\n",
       "      <td>1.012668</td>\n",
       "      <td>0.995253</td>\n",
       "      <td>0.982279</td>\n",
       "      <td>1.007264</td>\n",
       "      <td>1.005607</td>\n",
       "      <td>0.996866</td>\n",
       "      <td>1.000423</td>\n",
       "      <td>0.996144</td>\n",
       "      <td>...</td>\n",
       "      <td>1.005326</td>\n",
       "      <td>0.996413</td>\n",
       "      <td>1.015652</td>\n",
       "      <td>0.993404</td>\n",
       "      <td>0.992927</td>\n",
       "      <td>1.011211</td>\n",
       "      <td>0.993528</td>\n",
       "      <td>1.001254</td>\n",
       "      <td>0.996432</td>\n",
       "      <td>1.005572</td>\n",
       "    </tr>\n",
       "    <tr>\n",
       "      <th>3</th>\n",
       "      <td>1.021936</td>\n",
       "      <td>1.001681</td>\n",
       "      <td>1.014020</td>\n",
       "      <td>1.005867</td>\n",
       "      <td>0.995187</td>\n",
       "      <td>1.000497</td>\n",
       "      <td>1.012831</td>\n",
       "      <td>0.999233</td>\n",
       "      <td>0.996738</td>\n",
       "      <td>0.992740</td>\n",
       "      <td>...</td>\n",
       "      <td>1.015679</td>\n",
       "      <td>0.980906</td>\n",
       "      <td>1.025406</td>\n",
       "      <td>1.001676</td>\n",
       "      <td>1.001037</td>\n",
       "      <td>1.026905</td>\n",
       "      <td>0.986015</td>\n",
       "      <td>1.011528</td>\n",
       "      <td>0.994512</td>\n",
       "      <td>0.991845</td>\n",
       "    </tr>\n",
       "    <tr>\n",
       "      <th>4</th>\n",
       "      <td>1.031848</td>\n",
       "      <td>1.009163</td>\n",
       "      <td>1.016968</td>\n",
       "      <td>0.997844</td>\n",
       "      <td>1.011312</td>\n",
       "      <td>1.005059</td>\n",
       "      <td>1.015491</td>\n",
       "      <td>1.003913</td>\n",
       "      <td>0.992067</td>\n",
       "      <td>0.990249</td>\n",
       "      <td>...</td>\n",
       "      <td>1.013762</td>\n",
       "      <td>0.979324</td>\n",
       "      <td>1.023584</td>\n",
       "      <td>1.002148</td>\n",
       "      <td>1.005024</td>\n",
       "      <td>1.039704</td>\n",
       "      <td>0.998735</td>\n",
       "      <td>1.009120</td>\n",
       "      <td>1.000192</td>\n",
       "      <td>1.001332</td>\n",
       "    </tr>\n",
       "    <tr>\n",
       "      <th>...</th>\n",
       "      <td>...</td>\n",
       "      <td>...</td>\n",
       "      <td>...</td>\n",
       "      <td>...</td>\n",
       "      <td>...</td>\n",
       "      <td>...</td>\n",
       "      <td>...</td>\n",
       "      <td>...</td>\n",
       "      <td>...</td>\n",
       "      <td>...</td>\n",
       "      <td>...</td>\n",
       "      <td>...</td>\n",
       "      <td>...</td>\n",
       "      <td>...</td>\n",
       "      <td>...</td>\n",
       "      <td>...</td>\n",
       "      <td>...</td>\n",
       "      <td>...</td>\n",
       "      <td>...</td>\n",
       "      <td>...</td>\n",
       "      <td>...</td>\n",
       "    </tr>\n",
       "    <tr>\n",
       "      <th>2516</th>\n",
       "      <td>10.667095</td>\n",
       "      <td>10.874327</td>\n",
       "      <td>12.218919</td>\n",
       "      <td>20.304679</td>\n",
       "      <td>14.510496</td>\n",
       "      <td>10.685484</td>\n",
       "      <td>11.572398</td>\n",
       "      <td>9.532724</td>\n",
       "      <td>9.864717</td>\n",
       "      <td>10.824399</td>\n",
       "      <td>...</td>\n",
       "      <td>7.813914</td>\n",
       "      <td>7.080107</td>\n",
       "      <td>10.036402</td>\n",
       "      <td>8.530488</td>\n",
       "      <td>11.223994</td>\n",
       "      <td>19.961426</td>\n",
       "      <td>16.685389</td>\n",
       "      <td>11.880017</td>\n",
       "      <td>7.096757</td>\n",
       "      <td>12.407349</td>\n",
       "    </tr>\n",
       "    <tr>\n",
       "      <th>2517</th>\n",
       "      <td>10.656127</td>\n",
       "      <td>10.901527</td>\n",
       "      <td>12.240713</td>\n",
       "      <td>20.389517</td>\n",
       "      <td>14.490307</td>\n",
       "      <td>10.695001</td>\n",
       "      <td>11.721258</td>\n",
       "      <td>9.504651</td>\n",
       "      <td>9.822909</td>\n",
       "      <td>10.770832</td>\n",
       "      <td>...</td>\n",
       "      <td>7.867758</td>\n",
       "      <td>7.103680</td>\n",
       "      <td>9.962822</td>\n",
       "      <td>8.551098</td>\n",
       "      <td>11.288205</td>\n",
       "      <td>19.974792</td>\n",
       "      <td>16.913237</td>\n",
       "      <td>12.039519</td>\n",
       "      <td>7.081645</td>\n",
       "      <td>12.372374</td>\n",
       "    </tr>\n",
       "    <tr>\n",
       "      <th>2518</th>\n",
       "      <td>10.743242</td>\n",
       "      <td>10.969657</td>\n",
       "      <td>12.124720</td>\n",
       "      <td>20.718810</td>\n",
       "      <td>14.422569</td>\n",
       "      <td>10.704938</td>\n",
       "      <td>11.775912</td>\n",
       "      <td>9.629625</td>\n",
       "      <td>9.800590</td>\n",
       "      <td>10.829173</td>\n",
       "      <td>...</td>\n",
       "      <td>7.986850</td>\n",
       "      <td>7.077915</td>\n",
       "      <td>9.945622</td>\n",
       "      <td>8.512467</td>\n",
       "      <td>11.363557</td>\n",
       "      <td>20.016952</td>\n",
       "      <td>17.003541</td>\n",
       "      <td>12.090939</td>\n",
       "      <td>7.105788</td>\n",
       "      <td>12.222248</td>\n",
       "    </tr>\n",
       "    <tr>\n",
       "      <th>2519</th>\n",
       "      <td>10.811307</td>\n",
       "      <td>10.885473</td>\n",
       "      <td>12.100735</td>\n",
       "      <td>20.691453</td>\n",
       "      <td>14.353907</td>\n",
       "      <td>10.759708</td>\n",
       "      <td>11.799158</td>\n",
       "      <td>9.549428</td>\n",
       "      <td>9.840059</td>\n",
       "      <td>10.787075</td>\n",
       "      <td>...</td>\n",
       "      <td>7.964467</td>\n",
       "      <td>7.108109</td>\n",
       "      <td>9.944694</td>\n",
       "      <td>8.436039</td>\n",
       "      <td>11.330167</td>\n",
       "      <td>19.900502</td>\n",
       "      <td>17.013756</td>\n",
       "      <td>12.028837</td>\n",
       "      <td>7.293629</td>\n",
       "      <td>12.210352</td>\n",
       "    </tr>\n",
       "    <tr>\n",
       "      <th>2520</th>\n",
       "      <td>10.954229</td>\n",
       "      <td>10.878762</td>\n",
       "      <td>12.052191</td>\n",
       "      <td>20.562893</td>\n",
       "      <td>14.339422</td>\n",
       "      <td>10.661820</td>\n",
       "      <td>11.821293</td>\n",
       "      <td>9.511607</td>\n",
       "      <td>9.840119</td>\n",
       "      <td>10.790760</td>\n",
       "      <td>...</td>\n",
       "      <td>7.995807</td>\n",
       "      <td>7.131432</td>\n",
       "      <td>9.906981</td>\n",
       "      <td>8.520420</td>\n",
       "      <td>11.357652</td>\n",
       "      <td>19.879198</td>\n",
       "      <td>17.026614</td>\n",
       "      <td>12.055755</td>\n",
       "      <td>7.318402</td>\n",
       "      <td>12.191334</td>\n",
       "    </tr>\n",
       "  </tbody>\n",
       "</table>\n",
       "<p>2521 rows × 500 columns</p>\n",
       "</div>"
      ],
      "text/plain": [
       "            0          1          2          3          4          5    \\\n",
       "0      1.000000   1.000000   1.000000   1.000000   1.000000   1.000000   \n",
       "1      1.005554   1.007406   1.007203   1.001883   0.990117   1.000124   \n",
       "2      1.010583   1.001020   1.012668   0.995253   0.982279   1.007264   \n",
       "3      1.021936   1.001681   1.014020   1.005867   0.995187   1.000497   \n",
       "4      1.031848   1.009163   1.016968   0.997844   1.011312   1.005059   \n",
       "...         ...        ...        ...        ...        ...        ...   \n",
       "2516  10.667095  10.874327  12.218919  20.304679  14.510496  10.685484   \n",
       "2517  10.656127  10.901527  12.240713  20.389517  14.490307  10.695001   \n",
       "2518  10.743242  10.969657  12.124720  20.718810  14.422569  10.704938   \n",
       "2519  10.811307  10.885473  12.100735  20.691453  14.353907  10.759708   \n",
       "2520  10.954229  10.878762  12.052191  20.562893  14.339422  10.661820   \n",
       "\n",
       "            6         7         8          9    ...       490       491  \\\n",
       "0      1.000000  1.000000  1.000000   1.000000  ...  1.000000  1.000000   \n",
       "1      1.004481  1.000694  0.994517   1.004340  ...  1.010687  0.996528   \n",
       "2      1.005607  0.996866  1.000423   0.996144  ...  1.005326  0.996413   \n",
       "3      1.012831  0.999233  0.996738   0.992740  ...  1.015679  0.980906   \n",
       "4      1.015491  1.003913  0.992067   0.990249  ...  1.013762  0.979324   \n",
       "...         ...       ...       ...        ...  ...       ...       ...   \n",
       "2516  11.572398  9.532724  9.864717  10.824399  ...  7.813914  7.080107   \n",
       "2517  11.721258  9.504651  9.822909  10.770832  ...  7.867758  7.103680   \n",
       "2518  11.775912  9.629625  9.800590  10.829173  ...  7.986850  7.077915   \n",
       "2519  11.799158  9.549428  9.840059  10.787075  ...  7.964467  7.108109   \n",
       "2520  11.821293  9.511607  9.840119  10.790760  ...  7.995807  7.131432   \n",
       "\n",
       "            492       493        494        495        496        497  \\\n",
       "0      1.000000  1.000000   1.000000   1.000000   1.000000   1.000000   \n",
       "1      1.011888  1.003527   0.996715   1.000176   0.995959   1.000598   \n",
       "2      1.015652  0.993404   0.992927   1.011211   0.993528   1.001254   \n",
       "3      1.025406  1.001676   1.001037   1.026905   0.986015   1.011528   \n",
       "4      1.023584  1.002148   1.005024   1.039704   0.998735   1.009120   \n",
       "...         ...       ...        ...        ...        ...        ...   \n",
       "2516  10.036402  8.530488  11.223994  19.961426  16.685389  11.880017   \n",
       "2517   9.962822  8.551098  11.288205  19.974792  16.913237  12.039519   \n",
       "2518   9.945622  8.512467  11.363557  20.016952  17.003541  12.090939   \n",
       "2519   9.944694  8.436039  11.330167  19.900502  17.013756  12.028837   \n",
       "2520   9.906981  8.520420  11.357652  19.879198  17.026614  12.055755   \n",
       "\n",
       "           498        499  \n",
       "0     1.000000   1.000000  \n",
       "1     1.006653   1.004588  \n",
       "2     0.996432   1.005572  \n",
       "3     0.994512   0.991845  \n",
       "4     1.000192   1.001332  \n",
       "...        ...        ...  \n",
       "2516  7.096757  12.407349  \n",
       "2517  7.081645  12.372374  \n",
       "2518  7.105788  12.222248  \n",
       "2519  7.293629  12.210352  \n",
       "2520  7.318402  12.191334  \n",
       "\n",
       "[2521 rows x 500 columns]"
      ]
     },
     "execution_count": 79,
     "metadata": {},
     "output_type": "execute_result"
    }
   ],
   "source": [
    "# Run the Monte Carlo simulation to forecast 10 years cumulative returns\n",
    "MC_tenyear.calc_cumulative_return()"
   ]
  },
  {
   "cell_type": "code",
   "execution_count": 80,
   "metadata": {},
   "outputs": [
    {
     "data": {
      "image/png": "[encoded data removed]",
      "text/plain": [
       "<Figure size 432x288 with 1 Axes>"
      ]
     },
     "metadata": {
      "needs_background": "light"
     },
     "output_type": "display_data"
    }
   ],
   "source": [
    "# Visualize the 10-year Monte Carlo simulation by creating an\n",
    "# overlay line plot\n",
    "MC_ten_line_plot = MC_tenyear.plot_simulation()\n"
   ]
  },
  {
   "cell_type": "code",
   "execution_count": 81,
   "metadata": {},
   "outputs": [
    {
     "data": {
      "image/png": "[encoded data removed]",
      "text/plain": [
       "<Figure size 432x288 with 1 Axes>"
      ]
     },
     "metadata": {
      "needs_background": "light"
     },
     "output_type": "display_data"
    }
   ],
   "source": [
    "# Visualize the probability distribution of the 10-year Monte Carlo simulation \n",
    "# by plotting a histogram\n",
    "MC_ten_distribution = MC_tenyear.plot_distribution()\n"
   ]
  },
  {
   "cell_type": "code",
   "execution_count": 82,
   "metadata": {},
   "outputs": [
    {
     "name": "stdout",
     "output_type": "stream",
     "text": [
      "count           500.000000\n",
      "mean             12.925697\n",
      "std               4.710289\n",
      "min               4.536170\n",
      "25%               9.577083\n",
      "50%              12.050359\n",
      "75%              15.479883\n",
      "max              39.208690\n",
      "95% CI Lower      5.987291\n",
      "95% CI Upper     24.698026\n",
      "Name: 2520, dtype: float64\n"
     ]
    }
   ],
   "source": [
    "# Generate summary statistics from the 10-year Monte Carlo simulation results\n",
    "# Save the results as a variable\n",
    "MC_tenyear_summary = MC_tenyear.summarize_cumulative_return()\n",
    "\n",
    "\n",
    "# Review the 10-year Monte Carlo summary statistics\n",
    "print(MC_tenyear_summary)"
   ]
  },
  {
   "cell_type": "markdown",
   "metadata": {},
   "source": [
    "### Answer the following questions:"
   ]
  },
  {
   "cell_type": "markdown",
   "metadata": {},
   "source": [
    "#### Question: Using the current value of only the stock and bond portion of the member's portfolio and the summary statistics that you generated from the new Monte Carlo simulation, what are the lower and upper bounds for the expected value of the portfolio (with the new weights) with a 95% confidence interval?"
   ]
  },
  {
   "cell_type": "code",
   "execution_count": 83,
   "metadata": {},
   "outputs": [
    {
     "data": {
      "text/plain": [
       "106458.0"
      ]
     },
     "execution_count": 83,
     "metadata": {},
     "output_type": "execute_result"
    }
   ],
   "source": [
    "# Print the current balance of the stock and bond portion of the members portfolio\n",
    "total_stocks_bonds\n"
   ]
  },
  {
   "cell_type": "code",
   "execution_count": 88,
   "metadata": {},
   "outputs": [
    {
     "name": "stdout",
     "output_type": "stream",
     "text": [
      "There is a 95% chance that if you invest your total stock and bonds portfolio in the next thirty years your investment will fall between $ 637395.06 and $ 2629302.44\n"
     ]
    }
   ],
   "source": [
    "# Use the lower and upper `95%` confidence intervals to calculate the range of the possible outcomes for the current stock/bond portfolio\n",
    "ci_lower_ten_cumulative_return = MC_tenyear_summary[8] * total_stocks_bonds\n",
    "ci_upper_ten_cumulative_return = MC_tenyear_summary[9] * total_stocks_bonds\n",
    "\n",
    "# Print the result of your calculations\n",
    "print(f'There is a 95% chance that if you invest your total stock and bonds portfolio in the next thirty years your investment will fall between ${ci_lower_ten_cumulative_return: .2f} and ${ci_upper_ten_cumulative_return: .2f}')"
   ]
  },
  {
   "cell_type": "markdown",
   "metadata": {},
   "source": [
    "#### Question: Will weighting the portfolio more heavily to stocks allow the credit union members to retire after only 10 years?"
   ]
  },
  {
   "cell_type": "raw",
   "metadata": {},
   "source": [
    "**Answer** Yes it will as long as there are no dips in the market. "
   ]
  },
  {
   "cell_type": "code",
   "execution_count": null,
   "metadata": {},
   "outputs": [],
   "source": []
  }
 ],
 "metadata": {
  "kernelspec": {
   "display_name": "Python (dev)",
   "language": "python",
   "name": "dev"
  },
  "language_info": {
   "codemirror_mode": {
    "name": "ipython",
    "version": 3
   },
   "file_extension": ".py",
   "mimetype": "text/x-python",
   "name": "python",
   "nbconvert_exporter": "python",
   "pygments_lexer": "ipython3",
   "version": "3.7.9"
  }
 },
 "nbformat": 4,
 "nbformat_minor": 4
}
